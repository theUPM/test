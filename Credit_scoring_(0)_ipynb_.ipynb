{
  "cells": [
    {
      "cell_type": "code",
      "execution_count": 35,
      "metadata": {
        "id": "0dfiR3BSZhSS"
      },
      "outputs": [],
      "source": [
        "import numpy as np\n",
        "import pandas as pd\n",
        "import matplotlib.pyplot as plt\n",
        "import seaborn as sns\n",
        "# from sklearn.impute import SimpleImputer\n",
        "from sklearn import preprocessing\n",
        "from sklearn.linear_model import LogisticRegression"
      ]
    },
    {
      "cell_type": "markdown",
      "metadata": {
        "id": "aJqHAOgnNsUx"
      },
      "source": [
        "# Dataset"
      ]
    },
    {
      "cell_type": "code",
      "execution_count": 36,
      "metadata": {
        "id": "9dK_-4lma_IK"
      },
      "outputs": [],
      "source": [
        "data = pd.read_csv(\"./findata-creditscoring/credit_train.csv\")\n",
        "test = pd.read_csv(\"./findata-creditscoring/credit_test.csv\")"
      ]
    },
    {
      "cell_type": "code",
      "execution_count": 37,
      "metadata": {
        "id": "hPoyfkKFNIDa"
      },
      "outputs": [],
      "source": [
        "#from google.colab import drive\n",
        "#drive.mount('/content/drive')"
      ]
    },
    {
      "cell_type": "code",
      "execution_count": 38,
      "metadata": {
        "id": "WblSiEfaHjbZ"
      },
      "outputs": [],
      "source": [
        "test_id = test['Loan ID']"
      ]
    },
    {
      "cell_type": "code",
      "execution_count": 39,
      "metadata": {
        "colab": {
          "base_uri": "https://localhost:8080/",
          "height": 467
        },
        "id": "NRsHTHpMnkLL",
        "outputId": "38a3d8aa-f6e8-42c7-d76a-0336ff33b25a"
      },
      "outputs": [
        {
          "data": {
            "text/html": [
              "<div>\n",
              "<style scoped>\n",
              "    .dataframe tbody tr th:only-of-type {\n",
              "        vertical-align: middle;\n",
              "    }\n",
              "\n",
              "    .dataframe tbody tr th {\n",
              "        vertical-align: top;\n",
              "    }\n",
              "\n",
              "    .dataframe thead th {\n",
              "        text-align: right;\n",
              "    }\n",
              "</style>\n",
              "<table border=\"1\" class=\"dataframe\">\n",
              "  <thead>\n",
              "    <tr style=\"text-align: right;\">\n",
              "      <th></th>\n",
              "      <th>Loan ID</th>\n",
              "      <th>Customer ID</th>\n",
              "      <th>Loan Status</th>\n",
              "      <th>Current Loan Amount</th>\n",
              "      <th>Term</th>\n",
              "      <th>Credit Score</th>\n",
              "      <th>Annual Income</th>\n",
              "      <th>Years in current job</th>\n",
              "      <th>Home Ownership</th>\n",
              "      <th>Purpose</th>\n",
              "      <th>Monthly Debt</th>\n",
              "      <th>Years of Credit History</th>\n",
              "      <th>Months since last delinquent</th>\n",
              "      <th>Number of Open Accounts</th>\n",
              "      <th>Number of Credit Problems</th>\n",
              "      <th>Current Credit Balance</th>\n",
              "      <th>Maximum Open Credit</th>\n",
              "      <th>Bankruptcies</th>\n",
              "      <th>Tax Liens</th>\n",
              "    </tr>\n",
              "  </thead>\n",
              "  <tbody>\n",
              "    <tr>\n",
              "      <th>0</th>\n",
              "      <td>14dd8831-6af5-400b-83ec-68e61888a048</td>\n",
              "      <td>981165ec-3274-42f5-a3b4-d104041a9ca9</td>\n",
              "      <td>Fully Paid</td>\n",
              "      <td>445412</td>\n",
              "      <td>Short Term</td>\n",
              "      <td>709.0</td>\n",
              "      <td>1167493.0</td>\n",
              "      <td>8 years</td>\n",
              "      <td>Home Mortgage</td>\n",
              "      <td>Home Improvements</td>\n",
              "      <td>5214.74</td>\n",
              "      <td>17.2</td>\n",
              "      <td>NaN</td>\n",
              "      <td>6</td>\n",
              "      <td>1</td>\n",
              "      <td>228190</td>\n",
              "      <td>416746.0</td>\n",
              "      <td>1.0</td>\n",
              "      <td>0.0</td>\n",
              "    </tr>\n",
              "    <tr>\n",
              "      <th>1</th>\n",
              "      <td>4771cc26-131a-45db-b5aa-537ea4ba5342</td>\n",
              "      <td>2de017a3-2e01-49cb-a581-08169e83be29</td>\n",
              "      <td>Fully Paid</td>\n",
              "      <td>262328</td>\n",
              "      <td>Short Term</td>\n",
              "      <td>NaN</td>\n",
              "      <td>NaN</td>\n",
              "      <td>10+ years</td>\n",
              "      <td>Home Mortgage</td>\n",
              "      <td>Debt Consolidation</td>\n",
              "      <td>33295.98</td>\n",
              "      <td>21.1</td>\n",
              "      <td>8.0</td>\n",
              "      <td>35</td>\n",
              "      <td>0</td>\n",
              "      <td>229976</td>\n",
              "      <td>850784.0</td>\n",
              "      <td>0.0</td>\n",
              "      <td>0.0</td>\n",
              "    </tr>\n",
              "    <tr>\n",
              "      <th>2</th>\n",
              "      <td>4eed4e6a-aa2f-4c91-8651-ce984ee8fb26</td>\n",
              "      <td>5efb2b2b-bf11-4dfd-a572-3761a2694725</td>\n",
              "      <td>Fully Paid</td>\n",
              "      <td>99999999</td>\n",
              "      <td>Short Term</td>\n",
              "      <td>741.0</td>\n",
              "      <td>2231892.0</td>\n",
              "      <td>8 years</td>\n",
              "      <td>Own Home</td>\n",
              "      <td>Debt Consolidation</td>\n",
              "      <td>29200.53</td>\n",
              "      <td>14.9</td>\n",
              "      <td>29.0</td>\n",
              "      <td>18</td>\n",
              "      <td>1</td>\n",
              "      <td>297996</td>\n",
              "      <td>750090.0</td>\n",
              "      <td>0.0</td>\n",
              "      <td>0.0</td>\n",
              "    </tr>\n",
              "    <tr>\n",
              "      <th>3</th>\n",
              "      <td>77598f7b-32e7-4e3b-a6e5-06ba0d98fe8a</td>\n",
              "      <td>e777faab-98ae-45af-9a86-7ce5b33b1011</td>\n",
              "      <td>Fully Paid</td>\n",
              "      <td>347666</td>\n",
              "      <td>Long Term</td>\n",
              "      <td>721.0</td>\n",
              "      <td>806949.0</td>\n",
              "      <td>3 years</td>\n",
              "      <td>Own Home</td>\n",
              "      <td>Debt Consolidation</td>\n",
              "      <td>8741.90</td>\n",
              "      <td>12.0</td>\n",
              "      <td>NaN</td>\n",
              "      <td>9</td>\n",
              "      <td>0</td>\n",
              "      <td>256329</td>\n",
              "      <td>386958.0</td>\n",
              "      <td>0.0</td>\n",
              "      <td>0.0</td>\n",
              "    </tr>\n",
              "    <tr>\n",
              "      <th>4</th>\n",
              "      <td>d4062e70-befa-4995-8643-a0de73938182</td>\n",
              "      <td>81536ad9-5ccf-4eb8-befb-47a4d608658e</td>\n",
              "      <td>Fully Paid</td>\n",
              "      <td>176220</td>\n",
              "      <td>Short Term</td>\n",
              "      <td>NaN</td>\n",
              "      <td>NaN</td>\n",
              "      <td>5 years</td>\n",
              "      <td>Rent</td>\n",
              "      <td>Debt Consolidation</td>\n",
              "      <td>20639.70</td>\n",
              "      <td>6.1</td>\n",
              "      <td>NaN</td>\n",
              "      <td>15</td>\n",
              "      <td>0</td>\n",
              "      <td>253460</td>\n",
              "      <td>427174.0</td>\n",
              "      <td>0.0</td>\n",
              "      <td>0.0</td>\n",
              "    </tr>\n",
              "  </tbody>\n",
              "</table>\n",
              "</div>"
            ],
            "text/plain": [
              "                                Loan ID                           Customer ID  \\\n",
              "0  14dd8831-6af5-400b-83ec-68e61888a048  981165ec-3274-42f5-a3b4-d104041a9ca9   \n",
              "1  4771cc26-131a-45db-b5aa-537ea4ba5342  2de017a3-2e01-49cb-a581-08169e83be29   \n",
              "2  4eed4e6a-aa2f-4c91-8651-ce984ee8fb26  5efb2b2b-bf11-4dfd-a572-3761a2694725   \n",
              "3  77598f7b-32e7-4e3b-a6e5-06ba0d98fe8a  e777faab-98ae-45af-9a86-7ce5b33b1011   \n",
              "4  d4062e70-befa-4995-8643-a0de73938182  81536ad9-5ccf-4eb8-befb-47a4d608658e   \n",
              "\n",
              "  Loan Status  Current Loan Amount        Term  Credit Score  Annual Income  \\\n",
              "0  Fully Paid               445412  Short Term         709.0      1167493.0   \n",
              "1  Fully Paid               262328  Short Term           NaN            NaN   \n",
              "2  Fully Paid             99999999  Short Term         741.0      2231892.0   \n",
              "3  Fully Paid               347666   Long Term         721.0       806949.0   \n",
              "4  Fully Paid               176220  Short Term           NaN            NaN   \n",
              "\n",
              "  Years in current job Home Ownership             Purpose  Monthly Debt  \\\n",
              "0              8 years  Home Mortgage   Home Improvements       5214.74   \n",
              "1            10+ years  Home Mortgage  Debt Consolidation      33295.98   \n",
              "2              8 years       Own Home  Debt Consolidation      29200.53   \n",
              "3              3 years       Own Home  Debt Consolidation       8741.90   \n",
              "4              5 years           Rent  Debt Consolidation      20639.70   \n",
              "\n",
              "   Years of Credit History  Months since last delinquent  \\\n",
              "0                     17.2                           NaN   \n",
              "1                     21.1                           8.0   \n",
              "2                     14.9                          29.0   \n",
              "3                     12.0                           NaN   \n",
              "4                      6.1                           NaN   \n",
              "\n",
              "   Number of Open Accounts  Number of Credit Problems  Current Credit Balance  \\\n",
              "0                        6                          1                  228190   \n",
              "1                       35                          0                  229976   \n",
              "2                       18                          1                  297996   \n",
              "3                        9                          0                  256329   \n",
              "4                       15                          0                  253460   \n",
              "\n",
              "   Maximum Open Credit  Bankruptcies  Tax Liens  \n",
              "0             416746.0           1.0        0.0  \n",
              "1             850784.0           0.0        0.0  \n",
              "2             750090.0           0.0        0.0  \n",
              "3             386958.0           0.0        0.0  \n",
              "4             427174.0           0.0        0.0  "
            ]
          },
          "execution_count": 39,
          "metadata": {},
          "output_type": "execute_result"
        }
      ],
      "source": [
        "data.head()"
      ]
    },
    {
      "cell_type": "code",
      "execution_count": 40,
      "metadata": {
        "colab": {
          "base_uri": "https://localhost:8080/"
        },
        "id": "1B98mUmMclBj",
        "outputId": "650991d5-4645-4d6c-fdcb-81145ae8ce28"
      },
      "outputs": [
        {
          "data": {
            "text/plain": [
              "Loan ID                          object\n",
              "Customer ID                      object\n",
              "Loan Status                      object\n",
              "Current Loan Amount               int64\n",
              "Term                             object\n",
              "Credit Score                    float64\n",
              "Annual Income                   float64\n",
              "Years in current job             object\n",
              "Home Ownership                   object\n",
              "Purpose                          object\n",
              "Monthly Debt                    float64\n",
              "Years of Credit History         float64\n",
              "Months since last delinquent    float64\n",
              "Number of Open Accounts           int64\n",
              "Number of Credit Problems         int64\n",
              "Current Credit Balance            int64\n",
              "Maximum Open Credit             float64\n",
              "Bankruptcies                    float64\n",
              "Tax Liens                       float64\n",
              "dtype: object"
            ]
          },
          "execution_count": 40,
          "metadata": {},
          "output_type": "execute_result"
        }
      ],
      "source": [
        "data.dtypes"
      ]
    },
    {
      "cell_type": "code",
      "execution_count": 41,
      "metadata": {
        "colab": {
          "base_uri": "https://localhost:8080/"
        },
        "id": "eCT9TXI9sBZ3",
        "outputId": "c6240f3e-b9ac-4f10-b33b-bab8c77cce74"
      },
      "outputs": [
        {
          "data": {
            "text/plain": [
              "Loan ID                             0\n",
              "Customer ID                         0\n",
              "Loan Status                         0\n",
              "Current Loan Amount                 0\n",
              "Term                                0\n",
              "Credit Score                    19154\n",
              "Annual Income                   19154\n",
              "Years in current job             4222\n",
              "Home Ownership                      0\n",
              "Purpose                             0\n",
              "Monthly Debt                        0\n",
              "Years of Credit History             0\n",
              "Months since last delinquent    53141\n",
              "Number of Open Accounts             0\n",
              "Number of Credit Problems           0\n",
              "Current Credit Balance              0\n",
              "Maximum Open Credit                 2\n",
              "Bankruptcies                      204\n",
              "Tax Liens                          10\n",
              "dtype: int64"
            ]
          },
          "execution_count": 41,
          "metadata": {},
          "output_type": "execute_result"
        }
      ],
      "source": [
        "data.isna().sum()"
      ]
    },
    {
      "cell_type": "markdown",
      "metadata": {
        "id": "VPB2BcTXiZcF"
      },
      "source": [
        "# Дубликаты"
      ]
    },
    {
      "cell_type": "code",
      "execution_count": 42,
      "metadata": {
        "colab": {
          "base_uri": "https://localhost:8080/"
        },
        "id": "DRJ_5ADrENWq",
        "outputId": "f82148e3-f39a-426c-f41e-bce641dcdb2e"
      },
      "outputs": [
        {
          "name": "stdout",
          "output_type": "stream",
          "text": [
            "0        False\n",
            "1        False\n",
            "2        False\n",
            "3        False\n",
            "4        False\n",
            "         ...  \n",
            "99995     True\n",
            "99996    False\n",
            "99997    False\n",
            "99998    False\n",
            "99999    False\n",
            "Length: 100000, dtype: bool\n"
          ]
        }
      ],
      "source": [
        "print(data.duplicated())\n",
        "data.drop_duplicates(['Loan ID'], inplace=True)"
      ]
    },
    {
      "cell_type": "code",
      "execution_count": 43,
      "metadata": {
        "colab": {
          "base_uri": "https://localhost:8080/",
          "height": 632
        },
        "id": "jo5VHsG_Cw4q",
        "outputId": "65c9e029-9bbf-4826-f2c7-75fc3cfb0ab3"
      },
      "outputs": [
        {
          "data": {
            "text/html": [
              "<div>\n",
              "<style scoped>\n",
              "    .dataframe tbody tr th:only-of-type {\n",
              "        vertical-align: middle;\n",
              "    }\n",
              "\n",
              "    .dataframe tbody tr th {\n",
              "        vertical-align: top;\n",
              "    }\n",
              "\n",
              "    .dataframe thead th {\n",
              "        text-align: right;\n",
              "    }\n",
              "</style>\n",
              "<table border=\"1\" class=\"dataframe\">\n",
              "  <thead>\n",
              "    <tr style=\"text-align: right;\">\n",
              "      <th></th>\n",
              "      <th>Loan Status</th>\n",
              "      <th>Current Loan Amount</th>\n",
              "      <th>Term</th>\n",
              "      <th>Credit Score</th>\n",
              "      <th>Annual Income</th>\n",
              "      <th>Years in current job</th>\n",
              "      <th>Home Ownership</th>\n",
              "      <th>Purpose</th>\n",
              "      <th>Monthly Debt</th>\n",
              "      <th>Years of Credit History</th>\n",
              "      <th>Months since last delinquent</th>\n",
              "      <th>Number of Open Accounts</th>\n",
              "      <th>Number of Credit Problems</th>\n",
              "      <th>Current Credit Balance</th>\n",
              "      <th>Maximum Open Credit</th>\n",
              "      <th>Bankruptcies</th>\n",
              "      <th>Tax Liens</th>\n",
              "    </tr>\n",
              "  </thead>\n",
              "  <tbody>\n",
              "    <tr>\n",
              "      <th>0</th>\n",
              "      <td>Fully Paid</td>\n",
              "      <td>445412</td>\n",
              "      <td>Short Term</td>\n",
              "      <td>709.0</td>\n",
              "      <td>1167493.0</td>\n",
              "      <td>8 years</td>\n",
              "      <td>Home Mortgage</td>\n",
              "      <td>Home Improvements</td>\n",
              "      <td>5214.74</td>\n",
              "      <td>17.2</td>\n",
              "      <td>NaN</td>\n",
              "      <td>6</td>\n",
              "      <td>1</td>\n",
              "      <td>228190</td>\n",
              "      <td>416746.0</td>\n",
              "      <td>1.0</td>\n",
              "      <td>0.0</td>\n",
              "    </tr>\n",
              "    <tr>\n",
              "      <th>1</th>\n",
              "      <td>Fully Paid</td>\n",
              "      <td>262328</td>\n",
              "      <td>Short Term</td>\n",
              "      <td>NaN</td>\n",
              "      <td>NaN</td>\n",
              "      <td>10+ years</td>\n",
              "      <td>Home Mortgage</td>\n",
              "      <td>Debt Consolidation</td>\n",
              "      <td>33295.98</td>\n",
              "      <td>21.1</td>\n",
              "      <td>8.0</td>\n",
              "      <td>35</td>\n",
              "      <td>0</td>\n",
              "      <td>229976</td>\n",
              "      <td>850784.0</td>\n",
              "      <td>0.0</td>\n",
              "      <td>0.0</td>\n",
              "    </tr>\n",
              "    <tr>\n",
              "      <th>2</th>\n",
              "      <td>Fully Paid</td>\n",
              "      <td>99999999</td>\n",
              "      <td>Short Term</td>\n",
              "      <td>741.0</td>\n",
              "      <td>2231892.0</td>\n",
              "      <td>8 years</td>\n",
              "      <td>Own Home</td>\n",
              "      <td>Debt Consolidation</td>\n",
              "      <td>29200.53</td>\n",
              "      <td>14.9</td>\n",
              "      <td>29.0</td>\n",
              "      <td>18</td>\n",
              "      <td>1</td>\n",
              "      <td>297996</td>\n",
              "      <td>750090.0</td>\n",
              "      <td>0.0</td>\n",
              "      <td>0.0</td>\n",
              "    </tr>\n",
              "    <tr>\n",
              "      <th>3</th>\n",
              "      <td>Fully Paid</td>\n",
              "      <td>347666</td>\n",
              "      <td>Long Term</td>\n",
              "      <td>721.0</td>\n",
              "      <td>806949.0</td>\n",
              "      <td>3 years</td>\n",
              "      <td>Own Home</td>\n",
              "      <td>Debt Consolidation</td>\n",
              "      <td>8741.90</td>\n",
              "      <td>12.0</td>\n",
              "      <td>NaN</td>\n",
              "      <td>9</td>\n",
              "      <td>0</td>\n",
              "      <td>256329</td>\n",
              "      <td>386958.0</td>\n",
              "      <td>0.0</td>\n",
              "      <td>0.0</td>\n",
              "    </tr>\n",
              "    <tr>\n",
              "      <th>4</th>\n",
              "      <td>Fully Paid</td>\n",
              "      <td>176220</td>\n",
              "      <td>Short Term</td>\n",
              "      <td>NaN</td>\n",
              "      <td>NaN</td>\n",
              "      <td>5 years</td>\n",
              "      <td>Rent</td>\n",
              "      <td>Debt Consolidation</td>\n",
              "      <td>20639.70</td>\n",
              "      <td>6.1</td>\n",
              "      <td>NaN</td>\n",
              "      <td>15</td>\n",
              "      <td>0</td>\n",
              "      <td>253460</td>\n",
              "      <td>427174.0</td>\n",
              "      <td>0.0</td>\n",
              "      <td>0.0</td>\n",
              "    </tr>\n",
              "    <tr>\n",
              "      <th>...</th>\n",
              "      <td>...</td>\n",
              "      <td>...</td>\n",
              "      <td>...</td>\n",
              "      <td>...</td>\n",
              "      <td>...</td>\n",
              "      <td>...</td>\n",
              "      <td>...</td>\n",
              "      <td>...</td>\n",
              "      <td>...</td>\n",
              "      <td>...</td>\n",
              "      <td>...</td>\n",
              "      <td>...</td>\n",
              "      <td>...</td>\n",
              "      <td>...</td>\n",
              "      <td>...</td>\n",
              "      <td>...</td>\n",
              "      <td>...</td>\n",
              "    </tr>\n",
              "    <tr>\n",
              "      <th>99990</th>\n",
              "      <td>Fully Paid</td>\n",
              "      <td>99999999</td>\n",
              "      <td>Short Term</td>\n",
              "      <td>742.0</td>\n",
              "      <td>1190046.0</td>\n",
              "      <td>&lt; 1 year</td>\n",
              "      <td>Rent</td>\n",
              "      <td>other</td>\n",
              "      <td>11969.81</td>\n",
              "      <td>20.1</td>\n",
              "      <td>16.0</td>\n",
              "      <td>9</td>\n",
              "      <td>0</td>\n",
              "      <td>37392</td>\n",
              "      <td>134442.0</td>\n",
              "      <td>0.0</td>\n",
              "      <td>0.0</td>\n",
              "    </tr>\n",
              "    <tr>\n",
              "      <th>99996</th>\n",
              "      <td>Fully Paid</td>\n",
              "      <td>99999999</td>\n",
              "      <td>Short Term</td>\n",
              "      <td>732.0</td>\n",
              "      <td>1289416.0</td>\n",
              "      <td>1 year</td>\n",
              "      <td>Rent</td>\n",
              "      <td>Debt Consolidation</td>\n",
              "      <td>13109.05</td>\n",
              "      <td>9.4</td>\n",
              "      <td>21.0</td>\n",
              "      <td>22</td>\n",
              "      <td>0</td>\n",
              "      <td>153045</td>\n",
              "      <td>509234.0</td>\n",
              "      <td>0.0</td>\n",
              "      <td>0.0</td>\n",
              "    </tr>\n",
              "    <tr>\n",
              "      <th>99997</th>\n",
              "      <td>Fully Paid</td>\n",
              "      <td>103136</td>\n",
              "      <td>Short Term</td>\n",
              "      <td>742.0</td>\n",
              "      <td>1150545.0</td>\n",
              "      <td>6 years</td>\n",
              "      <td>Rent</td>\n",
              "      <td>Debt Consolidation</td>\n",
              "      <td>7315.57</td>\n",
              "      <td>18.8</td>\n",
              "      <td>18.0</td>\n",
              "      <td>12</td>\n",
              "      <td>1</td>\n",
              "      <td>109554</td>\n",
              "      <td>537548.0</td>\n",
              "      <td>1.0</td>\n",
              "      <td>0.0</td>\n",
              "    </tr>\n",
              "    <tr>\n",
              "      <th>99998</th>\n",
              "      <td>Fully Paid</td>\n",
              "      <td>530332</td>\n",
              "      <td>Short Term</td>\n",
              "      <td>746.0</td>\n",
              "      <td>1717524.0</td>\n",
              "      <td>9 years</td>\n",
              "      <td>Rent</td>\n",
              "      <td>Debt Consolidation</td>\n",
              "      <td>9890.07</td>\n",
              "      <td>15.0</td>\n",
              "      <td>NaN</td>\n",
              "      <td>8</td>\n",
              "      <td>0</td>\n",
              "      <td>404225</td>\n",
              "      <td>738254.0</td>\n",
              "      <td>0.0</td>\n",
              "      <td>0.0</td>\n",
              "    </tr>\n",
              "    <tr>\n",
              "      <th>99999</th>\n",
              "      <td>Fully Paid</td>\n",
              "      <td>99999999</td>\n",
              "      <td>Short Term</td>\n",
              "      <td>743.0</td>\n",
              "      <td>935180.0</td>\n",
              "      <td>NaN</td>\n",
              "      <td>Own Home</td>\n",
              "      <td>Debt Consolidation</td>\n",
              "      <td>9118.10</td>\n",
              "      <td>13.0</td>\n",
              "      <td>NaN</td>\n",
              "      <td>4</td>\n",
              "      <td>1</td>\n",
              "      <td>45600</td>\n",
              "      <td>91014.0</td>\n",
              "      <td>1.0</td>\n",
              "      <td>0.0</td>\n",
              "    </tr>\n",
              "  </tbody>\n",
              "</table>\n",
              "<p>81999 rows × 17 columns</p>\n",
              "</div>"
            ],
            "text/plain": [
              "      Loan Status  Current Loan Amount        Term  Credit Score  \\\n",
              "0      Fully Paid               445412  Short Term         709.0   \n",
              "1      Fully Paid               262328  Short Term           NaN   \n",
              "2      Fully Paid             99999999  Short Term         741.0   \n",
              "3      Fully Paid               347666   Long Term         721.0   \n",
              "4      Fully Paid               176220  Short Term           NaN   \n",
              "...           ...                  ...         ...           ...   \n",
              "99990  Fully Paid             99999999  Short Term         742.0   \n",
              "99996  Fully Paid             99999999  Short Term         732.0   \n",
              "99997  Fully Paid               103136  Short Term         742.0   \n",
              "99998  Fully Paid               530332  Short Term         746.0   \n",
              "99999  Fully Paid             99999999  Short Term         743.0   \n",
              "\n",
              "       Annual Income Years in current job Home Ownership             Purpose  \\\n",
              "0          1167493.0              8 years  Home Mortgage   Home Improvements   \n",
              "1                NaN            10+ years  Home Mortgage  Debt Consolidation   \n",
              "2          2231892.0              8 years       Own Home  Debt Consolidation   \n",
              "3           806949.0              3 years       Own Home  Debt Consolidation   \n",
              "4                NaN              5 years           Rent  Debt Consolidation   \n",
              "...              ...                  ...            ...                 ...   \n",
              "99990      1190046.0             < 1 year           Rent               other   \n",
              "99996      1289416.0               1 year           Rent  Debt Consolidation   \n",
              "99997      1150545.0              6 years           Rent  Debt Consolidation   \n",
              "99998      1717524.0              9 years           Rent  Debt Consolidation   \n",
              "99999       935180.0                  NaN       Own Home  Debt Consolidation   \n",
              "\n",
              "       Monthly Debt  Years of Credit History  Months since last delinquent  \\\n",
              "0           5214.74                     17.2                           NaN   \n",
              "1          33295.98                     21.1                           8.0   \n",
              "2          29200.53                     14.9                          29.0   \n",
              "3           8741.90                     12.0                           NaN   \n",
              "4          20639.70                      6.1                           NaN   \n",
              "...             ...                      ...                           ...   \n",
              "99990      11969.81                     20.1                          16.0   \n",
              "99996      13109.05                      9.4                          21.0   \n",
              "99997       7315.57                     18.8                          18.0   \n",
              "99998       9890.07                     15.0                           NaN   \n",
              "99999       9118.10                     13.0                           NaN   \n",
              "\n",
              "       Number of Open Accounts  Number of Credit Problems  \\\n",
              "0                            6                          1   \n",
              "1                           35                          0   \n",
              "2                           18                          1   \n",
              "3                            9                          0   \n",
              "4                           15                          0   \n",
              "...                        ...                        ...   \n",
              "99990                        9                          0   \n",
              "99996                       22                          0   \n",
              "99997                       12                          1   \n",
              "99998                        8                          0   \n",
              "99999                        4                          1   \n",
              "\n",
              "       Current Credit Balance  Maximum Open Credit  Bankruptcies  Tax Liens  \n",
              "0                      228190             416746.0           1.0        0.0  \n",
              "1                      229976             850784.0           0.0        0.0  \n",
              "2                      297996             750090.0           0.0        0.0  \n",
              "3                      256329             386958.0           0.0        0.0  \n",
              "4                      253460             427174.0           0.0        0.0  \n",
              "...                       ...                  ...           ...        ...  \n",
              "99990                   37392             134442.0           0.0        0.0  \n",
              "99996                  153045             509234.0           0.0        0.0  \n",
              "99997                  109554             537548.0           1.0        0.0  \n",
              "99998                  404225             738254.0           0.0        0.0  \n",
              "99999                   45600              91014.0           1.0        0.0  \n",
              "\n",
              "[81999 rows x 17 columns]"
            ]
          },
          "execution_count": 43,
          "metadata": {},
          "output_type": "execute_result"
        }
      ],
      "source": [
        "data = data.drop(['Loan ID',\t'Customer ID'], axis=1)\n",
        "test = test.drop(['Loan ID',\t'Customer ID'], axis=1)\n",
        "data"
      ]
    },
    {
      "cell_type": "code",
      "execution_count": 44,
      "metadata": {
        "colab": {
          "base_uri": "https://localhost:8080/"
        },
        "id": "JF8bdB7UFEzs",
        "outputId": "51ec7222-976d-4ce8-d3fc-a1f913fa025c"
      },
      "outputs": [
        {
          "data": {
            "text/plain": [
              "81999"
            ]
          },
          "execution_count": 44,
          "metadata": {},
          "output_type": "execute_result"
        }
      ],
      "source": [
        "len(data)"
      ]
    },
    {
      "cell_type": "code",
      "execution_count": 45,
      "metadata": {
        "colab": {
          "base_uri": "https://localhost:8080/",
          "height": 118
        },
        "id": "W6DZNSGSxaDf",
        "outputId": "c9005172-00d8-4e16-d688-dafbeacf0453"
      },
      "outputs": [
        {
          "data": {
            "text/html": [
              "<div>\n",
              "<style scoped>\n",
              "    .dataframe tbody tr th:only-of-type {\n",
              "        vertical-align: middle;\n",
              "    }\n",
              "\n",
              "    .dataframe tbody tr th {\n",
              "        vertical-align: top;\n",
              "    }\n",
              "\n",
              "    .dataframe thead th {\n",
              "        text-align: right;\n",
              "    }\n",
              "</style>\n",
              "<table border=\"1\" class=\"dataframe\">\n",
              "  <thead>\n",
              "    <tr style=\"text-align: right;\">\n",
              "      <th></th>\n",
              "      <th>loan_status</th>\n",
              "      <th>current_loan_amount</th>\n",
              "      <th>term</th>\n",
              "      <th>credit_score</th>\n",
              "      <th>annual_income</th>\n",
              "      <th>years_in_current_job</th>\n",
              "      <th>home_ownership</th>\n",
              "      <th>purpose</th>\n",
              "      <th>monthly_debt</th>\n",
              "      <th>years_of_credit_history</th>\n",
              "      <th>months_since_last_delinquent</th>\n",
              "      <th>number_of_open_accounts</th>\n",
              "      <th>number_of_credit_problems</th>\n",
              "      <th>current_credit_balance</th>\n",
              "      <th>maximum_open_credit</th>\n",
              "      <th>bankruptcies</th>\n",
              "      <th>tax_liens</th>\n",
              "    </tr>\n",
              "  </thead>\n",
              "  <tbody>\n",
              "    <tr>\n",
              "      <th>0</th>\n",
              "      <td>Fully Paid</td>\n",
              "      <td>445412</td>\n",
              "      <td>Short Term</td>\n",
              "      <td>709.0</td>\n",
              "      <td>1167493.0</td>\n",
              "      <td>8 years</td>\n",
              "      <td>Home Mortgage</td>\n",
              "      <td>Home Improvements</td>\n",
              "      <td>5214.74</td>\n",
              "      <td>17.2</td>\n",
              "      <td>NaN</td>\n",
              "      <td>6</td>\n",
              "      <td>1</td>\n",
              "      <td>228190</td>\n",
              "      <td>416746.0</td>\n",
              "      <td>1.0</td>\n",
              "      <td>0.0</td>\n",
              "    </tr>\n",
              "  </tbody>\n",
              "</table>\n",
              "</div>"
            ],
            "text/plain": [
              "  loan_status  current_loan_amount        term  credit_score  annual_income  \\\n",
              "0  Fully Paid               445412  Short Term         709.0      1167493.0   \n",
              "\n",
              "  years_in_current_job home_ownership            purpose  monthly_debt  \\\n",
              "0              8 years  Home Mortgage  Home Improvements       5214.74   \n",
              "\n",
              "   years_of_credit_history  months_since_last_delinquent  \\\n",
              "0                     17.2                           NaN   \n",
              "\n",
              "   number_of_open_accounts  number_of_credit_problems  current_credit_balance  \\\n",
              "0                        6                          1                  228190   \n",
              "\n",
              "   maximum_open_credit  bankruptcies  tax_liens  \n",
              "0             416746.0           1.0        0.0  "
            ]
          },
          "execution_count": 45,
          "metadata": {},
          "output_type": "execute_result"
        }
      ],
      "source": [
        "data.columns = data.columns.str.lower().str.replace(' ', '_')\n",
        "test.columns = test.columns.str.lower().str.replace(' ', '_')\n",
        "data.head(1)"
      ]
    },
    {
      "cell_type": "code",
      "execution_count": 46,
      "metadata": {
        "colab": {
          "base_uri": "https://localhost:8080/"
        },
        "id": "z3KvajtXcVl-",
        "outputId": "abaea6ef-c60c-433a-b0d6-5bb2599754fa"
      },
      "outputs": [
        {
          "data": {
            "text/plain": [
              "loan_status                         0\n",
              "current_loan_amount                 0\n",
              "term                                0\n",
              "credit_score                    17031\n",
              "annual_income                   17031\n",
              "years_in_current_job             3508\n",
              "home_ownership                      0\n",
              "purpose                             0\n",
              "monthly_debt                        0\n",
              "years_of_credit_history             0\n",
              "months_since_last_delinquent    44621\n",
              "number_of_open_accounts             0\n",
              "number_of_credit_problems           0\n",
              "current_credit_balance              0\n",
              "maximum_open_credit                 2\n",
              "bankruptcies                      175\n",
              "tax_liens                           8\n",
              "dtype: int64"
            ]
          },
          "execution_count": 46,
          "metadata": {},
          "output_type": "execute_result"
        }
      ],
      "source": [
        "# Пропуски\n",
        "data.isnull().sum()"
      ]
    },
    {
      "cell_type": "markdown",
      "metadata": {
        "id": "SMQo_rkYqmWf"
      },
      "source": [
        "# Таблица корреляций"
      ]
    },
    {
      "cell_type": "code",
      "execution_count": 48,
      "metadata": {
        "colab": {
          "base_uri": "https://localhost:8080/",
          "height": 480
        },
        "id": "ryLbhV5XaeuE",
        "outputId": "4d1a8e19-bb1c-4658-bce7-548fa5b81ba1"
      },
      "outputs": [
        {
          "data": {
            "text/html": [
              "<div>\n",
              "<style scoped>\n",
              "    .dataframe tbody tr th:only-of-type {\n",
              "        vertical-align: middle;\n",
              "    }\n",
              "\n",
              "    .dataframe tbody tr th {\n",
              "        vertical-align: top;\n",
              "    }\n",
              "\n",
              "    .dataframe thead th {\n",
              "        text-align: right;\n",
              "    }\n",
              "</style>\n",
              "<table border=\"1\" class=\"dataframe\">\n",
              "  <thead>\n",
              "    <tr style=\"text-align: right;\">\n",
              "      <th></th>\n",
              "      <th>current_loan_amount</th>\n",
              "      <th>credit_score</th>\n",
              "      <th>annual_income</th>\n",
              "      <th>monthly_debt</th>\n",
              "      <th>years_of_credit_history</th>\n",
              "      <th>months_since_last_delinquent</th>\n",
              "      <th>number_of_open_accounts</th>\n",
              "      <th>number_of_credit_problems</th>\n",
              "      <th>current_credit_balance</th>\n",
              "      <th>maximum_open_credit</th>\n",
              "      <th>bankruptcies</th>\n",
              "      <th>tax_liens</th>\n",
              "    </tr>\n",
              "  </thead>\n",
              "  <tbody>\n",
              "    <tr>\n",
              "      <th>current_loan_amount</th>\n",
              "      <td>1.000000</td>\n",
              "      <td>-0.112114</td>\n",
              "      <td>0.017206</td>\n",
              "      <td>-0.007167</td>\n",
              "      <td>0.023086</td>\n",
              "      <td>0.008841</td>\n",
              "      <td>0.002717</td>\n",
              "      <td>-0.004120</td>\n",
              "      <td>0.005100</td>\n",
              "      <td>-0.001345</td>\n",
              "      <td>-0.000458</td>\n",
              "      <td>-0.003723</td>\n",
              "    </tr>\n",
              "    <tr>\n",
              "      <th>credit_score</th>\n",
              "      <td>-0.112114</td>\n",
              "      <td>1.000000</td>\n",
              "      <td>-0.017946</td>\n",
              "      <td>0.002078</td>\n",
              "      <td>-0.015448</td>\n",
              "      <td>-0.006364</td>\n",
              "      <td>0.008413</td>\n",
              "      <td>0.000770</td>\n",
              "      <td>0.001012</td>\n",
              "      <td>-0.003968</td>\n",
              "      <td>-0.004274</td>\n",
              "      <td>0.007138</td>\n",
              "    </tr>\n",
              "    <tr>\n",
              "      <th>annual_income</th>\n",
              "      <td>0.017206</td>\n",
              "      <td>-0.017946</td>\n",
              "      <td>1.000000</td>\n",
              "      <td>0.464094</td>\n",
              "      <td>0.151250</td>\n",
              "      <td>-0.077464</td>\n",
              "      <td>0.139969</td>\n",
              "      <td>-0.013750</td>\n",
              "      <td>0.295324</td>\n",
              "      <td>0.045918</td>\n",
              "      <td>-0.046013</td>\n",
              "      <td>0.042069</td>\n",
              "    </tr>\n",
              "    <tr>\n",
              "      <th>monthly_debt</th>\n",
              "      <td>-0.007167</td>\n",
              "      <td>0.002078</td>\n",
              "      <td>0.464094</td>\n",
              "      <td>1.000000</td>\n",
              "      <td>0.191809</td>\n",
              "      <td>-0.055528</td>\n",
              "      <td>0.407482</td>\n",
              "      <td>-0.052575</td>\n",
              "      <td>0.475176</td>\n",
              "      <td>0.035493</td>\n",
              "      <td>-0.078908</td>\n",
              "      <td>0.022957</td>\n",
              "    </tr>\n",
              "    <tr>\n",
              "      <th>years_of_credit_history</th>\n",
              "      <td>0.023086</td>\n",
              "      <td>-0.015448</td>\n",
              "      <td>0.151250</td>\n",
              "      <td>0.191809</td>\n",
              "      <td>1.000000</td>\n",
              "      <td>-0.042918</td>\n",
              "      <td>0.128325</td>\n",
              "      <td>0.061412</td>\n",
              "      <td>0.206142</td>\n",
              "      <td>0.030353</td>\n",
              "      <td>0.064979</td>\n",
              "      <td>0.019053</td>\n",
              "    </tr>\n",
              "    <tr>\n",
              "      <th>months_since_last_delinquent</th>\n",
              "      <td>0.008841</td>\n",
              "      <td>-0.006364</td>\n",
              "      <td>-0.077464</td>\n",
              "      <td>-0.055528</td>\n",
              "      <td>-0.042918</td>\n",
              "      <td>1.000000</td>\n",
              "      <td>-0.033945</td>\n",
              "      <td>0.098571</td>\n",
              "      <td>-0.029011</td>\n",
              "      <td>-0.008755</td>\n",
              "      <td>0.119380</td>\n",
              "      <td>0.009529</td>\n",
              "    </tr>\n",
              "    <tr>\n",
              "      <th>number_of_open_accounts</th>\n",
              "      <td>0.002717</td>\n",
              "      <td>0.008413</td>\n",
              "      <td>0.139969</td>\n",
              "      <td>0.407482</td>\n",
              "      <td>0.128325</td>\n",
              "      <td>-0.033945</td>\n",
              "      <td>1.000000</td>\n",
              "      <td>-0.014269</td>\n",
              "      <td>0.226051</td>\n",
              "      <td>0.029132</td>\n",
              "      <td>-0.025683</td>\n",
              "      <td>0.007286</td>\n",
              "    </tr>\n",
              "    <tr>\n",
              "      <th>number_of_credit_problems</th>\n",
              "      <td>-0.004120</td>\n",
              "      <td>0.000770</td>\n",
              "      <td>-0.013750</td>\n",
              "      <td>-0.052575</td>\n",
              "      <td>0.061412</td>\n",
              "      <td>0.098571</td>\n",
              "      <td>-0.014269</td>\n",
              "      <td>1.000000</td>\n",
              "      <td>-0.108873</td>\n",
              "      <td>-0.011704</td>\n",
              "      <td>0.753123</td>\n",
              "      <td>0.582823</td>\n",
              "    </tr>\n",
              "    <tr>\n",
              "      <th>current_credit_balance</th>\n",
              "      <td>0.005100</td>\n",
              "      <td>0.001012</td>\n",
              "      <td>0.295324</td>\n",
              "      <td>0.475176</td>\n",
              "      <td>0.206142</td>\n",
              "      <td>-0.029011</td>\n",
              "      <td>0.226051</td>\n",
              "      <td>-0.108873</td>\n",
              "      <td>1.000000</td>\n",
              "      <td>0.131504</td>\n",
              "      <td>-0.120339</td>\n",
              "      <td>-0.013182</td>\n",
              "    </tr>\n",
              "    <tr>\n",
              "      <th>maximum_open_credit</th>\n",
              "      <td>-0.001345</td>\n",
              "      <td>-0.003968</td>\n",
              "      <td>0.045918</td>\n",
              "      <td>0.035493</td>\n",
              "      <td>0.030353</td>\n",
              "      <td>-0.008755</td>\n",
              "      <td>0.029132</td>\n",
              "      <td>-0.011704</td>\n",
              "      <td>0.131504</td>\n",
              "      <td>1.000000</td>\n",
              "      <td>-0.014034</td>\n",
              "      <td>-0.001481</td>\n",
              "    </tr>\n",
              "    <tr>\n",
              "      <th>bankruptcies</th>\n",
              "      <td>-0.000458</td>\n",
              "      <td>-0.004274</td>\n",
              "      <td>-0.046013</td>\n",
              "      <td>-0.078908</td>\n",
              "      <td>0.064979</td>\n",
              "      <td>0.119380</td>\n",
              "      <td>-0.025683</td>\n",
              "      <td>0.753123</td>\n",
              "      <td>-0.120339</td>\n",
              "      <td>-0.014034</td>\n",
              "      <td>1.000000</td>\n",
              "      <td>0.043669</td>\n",
              "    </tr>\n",
              "    <tr>\n",
              "      <th>tax_liens</th>\n",
              "      <td>-0.003723</td>\n",
              "      <td>0.007138</td>\n",
              "      <td>0.042069</td>\n",
              "      <td>0.022957</td>\n",
              "      <td>0.019053</td>\n",
              "      <td>0.009529</td>\n",
              "      <td>0.007286</td>\n",
              "      <td>0.582823</td>\n",
              "      <td>-0.013182</td>\n",
              "      <td>-0.001481</td>\n",
              "      <td>0.043669</td>\n",
              "      <td>1.000000</td>\n",
              "    </tr>\n",
              "  </tbody>\n",
              "</table>\n",
              "</div>"
            ],
            "text/plain": [
              "                              current_loan_amount  credit_score  \\\n",
              "current_loan_amount                      1.000000     -0.112114   \n",
              "credit_score                            -0.112114      1.000000   \n",
              "annual_income                            0.017206     -0.017946   \n",
              "monthly_debt                            -0.007167      0.002078   \n",
              "years_of_credit_history                  0.023086     -0.015448   \n",
              "months_since_last_delinquent             0.008841     -0.006364   \n",
              "number_of_open_accounts                  0.002717      0.008413   \n",
              "number_of_credit_problems               -0.004120      0.000770   \n",
              "current_credit_balance                   0.005100      0.001012   \n",
              "maximum_open_credit                     -0.001345     -0.003968   \n",
              "bankruptcies                            -0.000458     -0.004274   \n",
              "tax_liens                               -0.003723      0.007138   \n",
              "\n",
              "                              annual_income  monthly_debt  \\\n",
              "current_loan_amount                0.017206     -0.007167   \n",
              "credit_score                      -0.017946      0.002078   \n",
              "annual_income                      1.000000      0.464094   \n",
              "monthly_debt                       0.464094      1.000000   \n",
              "years_of_credit_history            0.151250      0.191809   \n",
              "months_since_last_delinquent      -0.077464     -0.055528   \n",
              "number_of_open_accounts            0.139969      0.407482   \n",
              "number_of_credit_problems         -0.013750     -0.052575   \n",
              "current_credit_balance             0.295324      0.475176   \n",
              "maximum_open_credit                0.045918      0.035493   \n",
              "bankruptcies                      -0.046013     -0.078908   \n",
              "tax_liens                          0.042069      0.022957   \n",
              "\n",
              "                              years_of_credit_history  \\\n",
              "current_loan_amount                          0.023086   \n",
              "credit_score                                -0.015448   \n",
              "annual_income                                0.151250   \n",
              "monthly_debt                                 0.191809   \n",
              "years_of_credit_history                      1.000000   \n",
              "months_since_last_delinquent                -0.042918   \n",
              "number_of_open_accounts                      0.128325   \n",
              "number_of_credit_problems                    0.061412   \n",
              "current_credit_balance                       0.206142   \n",
              "maximum_open_credit                          0.030353   \n",
              "bankruptcies                                 0.064979   \n",
              "tax_liens                                    0.019053   \n",
              "\n",
              "                              months_since_last_delinquent  \\\n",
              "current_loan_amount                               0.008841   \n",
              "credit_score                                     -0.006364   \n",
              "annual_income                                    -0.077464   \n",
              "monthly_debt                                     -0.055528   \n",
              "years_of_credit_history                          -0.042918   \n",
              "months_since_last_delinquent                      1.000000   \n",
              "number_of_open_accounts                          -0.033945   \n",
              "number_of_credit_problems                         0.098571   \n",
              "current_credit_balance                           -0.029011   \n",
              "maximum_open_credit                              -0.008755   \n",
              "bankruptcies                                      0.119380   \n",
              "tax_liens                                         0.009529   \n",
              "\n",
              "                              number_of_open_accounts  \\\n",
              "current_loan_amount                          0.002717   \n",
              "credit_score                                 0.008413   \n",
              "annual_income                                0.139969   \n",
              "monthly_debt                                 0.407482   \n",
              "years_of_credit_history                      0.128325   \n",
              "months_since_last_delinquent                -0.033945   \n",
              "number_of_open_accounts                      1.000000   \n",
              "number_of_credit_problems                   -0.014269   \n",
              "current_credit_balance                       0.226051   \n",
              "maximum_open_credit                          0.029132   \n",
              "bankruptcies                                -0.025683   \n",
              "tax_liens                                    0.007286   \n",
              "\n",
              "                              number_of_credit_problems  \\\n",
              "current_loan_amount                           -0.004120   \n",
              "credit_score                                   0.000770   \n",
              "annual_income                                 -0.013750   \n",
              "monthly_debt                                  -0.052575   \n",
              "years_of_credit_history                        0.061412   \n",
              "months_since_last_delinquent                   0.098571   \n",
              "number_of_open_accounts                       -0.014269   \n",
              "number_of_credit_problems                      1.000000   \n",
              "current_credit_balance                        -0.108873   \n",
              "maximum_open_credit                           -0.011704   \n",
              "bankruptcies                                   0.753123   \n",
              "tax_liens                                      0.582823   \n",
              "\n",
              "                              current_credit_balance  maximum_open_credit  \\\n",
              "current_loan_amount                         0.005100            -0.001345   \n",
              "credit_score                                0.001012            -0.003968   \n",
              "annual_income                               0.295324             0.045918   \n",
              "monthly_debt                                0.475176             0.035493   \n",
              "years_of_credit_history                     0.206142             0.030353   \n",
              "months_since_last_delinquent               -0.029011            -0.008755   \n",
              "number_of_open_accounts                     0.226051             0.029132   \n",
              "number_of_credit_problems                  -0.108873            -0.011704   \n",
              "current_credit_balance                      1.000000             0.131504   \n",
              "maximum_open_credit                         0.131504             1.000000   \n",
              "bankruptcies                               -0.120339            -0.014034   \n",
              "tax_liens                                  -0.013182            -0.001481   \n",
              "\n",
              "                              bankruptcies  tax_liens  \n",
              "current_loan_amount              -0.000458  -0.003723  \n",
              "credit_score                     -0.004274   0.007138  \n",
              "annual_income                    -0.046013   0.042069  \n",
              "monthly_debt                     -0.078908   0.022957  \n",
              "years_of_credit_history           0.064979   0.019053  \n",
              "months_since_last_delinquent      0.119380   0.009529  \n",
              "number_of_open_accounts          -0.025683   0.007286  \n",
              "number_of_credit_problems         0.753123   0.582823  \n",
              "current_credit_balance           -0.120339  -0.013182  \n",
              "maximum_open_credit              -0.014034  -0.001481  \n",
              "bankruptcies                      1.000000   0.043669  \n",
              "tax_liens                         0.043669   1.000000  "
            ]
          },
          "execution_count": 48,
          "metadata": {},
          "output_type": "execute_result"
        }
      ],
      "source": [
        "# Таблица корреляций\n",
        "#print(data.columns)\n",
        "# Example: Converting a categorical column to numeric\n",
        "#mapping = {'Fully Paid': 1, 'Not Paid': 0}\n",
        "#data['loan_status'] = data['loan_status'].replace(mapping)\n",
        "data.corr(numeric_only=True)"
      ]
    },
    {
      "cell_type": "code",
      "execution_count": 50,
      "metadata": {
        "colab": {
          "base_uri": "https://localhost:8080/",
          "height": 948
        },
        "id": "4G0h6AJmqjay",
        "outputId": "463c7dd6-ec47-419f-9e03-deecd2652877"
      },
      "outputs": [
        {
          "data": {
            "text/plain": [
              "<Axes: >"
            ]
          },
          "execution_count": 50,
          "metadata": {},
          "output_type": "execute_result"
        },
        {
          "data": {
            "image/png": "[encoded data removed]",
            "text/plain": [
              "<Figure size 1500x800 with 2 Axes>"
            ]
          },
          "metadata": {},
          "output_type": "display_data"
        }
      ],
      "source": [
        "plt.figure(figsize = (15,8))\n",
        "sns.heatmap(data.corr(numeric_only=True), annot = True, vmin=-1, vmax=1, center= 0, cmap= 'coolwarm')"
      ]
    },
    {
      "cell_type": "markdown",
      "metadata": {
        "id": "V7PuqEISp9gv"
      },
      "source": [
        "# Непрерывные переменные"
      ]
    },
    {
      "cell_type": "code",
      "execution_count": 51,
      "metadata": {
        "colab": {
          "base_uri": "https://localhost:8080/",
          "height": 320
        },
        "id": "11l_vCzDiewz",
        "outputId": "56f7a71d-e4c3-42b8-e995-ec8ecd471123"
      },
      "outputs": [
        {
          "data": {
            "text/html": [
              "<div>\n",
              "<style scoped>\n",
              "    .dataframe tbody tr th:only-of-type {\n",
              "        vertical-align: middle;\n",
              "    }\n",
              "\n",
              "    .dataframe tbody tr th {\n",
              "        vertical-align: top;\n",
              "    }\n",
              "\n",
              "    .dataframe thead th {\n",
              "        text-align: right;\n",
              "    }\n",
              "</style>\n",
              "<table border=\"1\" class=\"dataframe\">\n",
              "  <thead>\n",
              "    <tr style=\"text-align: right;\">\n",
              "      <th></th>\n",
              "      <th>current_loan_amount</th>\n",
              "      <th>credit_score</th>\n",
              "      <th>annual_income</th>\n",
              "      <th>monthly_debt</th>\n",
              "      <th>years_of_credit_history</th>\n",
              "      <th>months_since_last_delinquent</th>\n",
              "      <th>number_of_open_accounts</th>\n",
              "      <th>number_of_credit_problems</th>\n",
              "      <th>current_credit_balance</th>\n",
              "      <th>maximum_open_credit</th>\n",
              "      <th>bankruptcies</th>\n",
              "      <th>tax_liens</th>\n",
              "    </tr>\n",
              "  </thead>\n",
              "  <tbody>\n",
              "    <tr>\n",
              "      <th>count</th>\n",
              "      <td>8.199900e+04</td>\n",
              "      <td>64968.000000</td>\n",
              "      <td>6.496800e+04</td>\n",
              "      <td>81999.000000</td>\n",
              "      <td>81999.000000</td>\n",
              "      <td>37378.000000</td>\n",
              "      <td>81999.000000</td>\n",
              "      <td>81999.000000</td>\n",
              "      <td>8.199900e+04</td>\n",
              "      <td>8.199700e+04</td>\n",
              "      <td>81824.000000</td>\n",
              "      <td>81991.000000</td>\n",
              "    </tr>\n",
              "    <tr>\n",
              "      <th>mean</th>\n",
              "      <td>1.208640e+07</td>\n",
              "      <td>1168.410741</td>\n",
              "      <td>1.376776e+06</td>\n",
              "      <td>18330.633110</td>\n",
              "      <td>18.296783</td>\n",
              "      <td>35.064236</td>\n",
              "      <td>11.114489</td>\n",
              "      <td>0.161441</td>\n",
              "      <td>2.936203e+05</td>\n",
              "      <td>7.935358e+05</td>\n",
              "      <td>0.113463</td>\n",
              "      <td>0.028064</td>\n",
              "    </tr>\n",
              "    <tr>\n",
              "      <th>std</th>\n",
              "      <td>3.217953e+07</td>\n",
              "      <td>1632.676553</td>\n",
              "      <td>1.121542e+06</td>\n",
              "      <td>12127.700801</td>\n",
              "      <td>7.043774</td>\n",
              "      <td>22.021222</td>\n",
              "      <td>4.981266</td>\n",
              "      <td>0.473148</td>\n",
              "      <td>3.726145e+05</td>\n",
              "      <td>9.208747e+06</td>\n",
              "      <td>0.344674</td>\n",
              "      <td>0.254642</td>\n",
              "    </tr>\n",
              "    <tr>\n",
              "      <th>min</th>\n",
              "      <td>1.080200e+04</td>\n",
              "      <td>585.000000</td>\n",
              "      <td>7.662700e+04</td>\n",
              "      <td>0.000000</td>\n",
              "      <td>3.600000</td>\n",
              "      <td>0.000000</td>\n",
              "      <td>0.000000</td>\n",
              "      <td>0.000000</td>\n",
              "      <td>0.000000e+00</td>\n",
              "      <td>0.000000e+00</td>\n",
              "      <td>0.000000</td>\n",
              "      <td>0.000000</td>\n",
              "    </tr>\n",
              "    <tr>\n",
              "      <th>25%</th>\n",
              "      <td>1.792560e+05</td>\n",
              "      <td>711.000000</td>\n",
              "      <td>8.473050e+05</td>\n",
              "      <td>10117.595000</td>\n",
              "      <td>13.500000</td>\n",
              "      <td>16.000000</td>\n",
              "      <td>8.000000</td>\n",
              "      <td>0.000000</td>\n",
              "      <td>1.133160e+05</td>\n",
              "      <td>2.804560e+05</td>\n",
              "      <td>0.000000</td>\n",
              "      <td>0.000000</td>\n",
              "    </tr>\n",
              "    <tr>\n",
              "      <th>50%</th>\n",
              "      <td>3.077800e+05</td>\n",
              "      <td>731.000000</td>\n",
              "      <td>1.169592e+06</td>\n",
              "      <td>16075.330000</td>\n",
              "      <td>17.000000</td>\n",
              "      <td>32.000000</td>\n",
              "      <td>10.000000</td>\n",
              "      <td>0.000000</td>\n",
              "      <td>2.099310e+05</td>\n",
              "      <td>4.777740e+05</td>\n",
              "      <td>0.000000</td>\n",
              "      <td>0.000000</td>\n",
              "    </tr>\n",
              "    <tr>\n",
              "      <th>75%</th>\n",
              "      <td>5.194530e+05</td>\n",
              "      <td>743.000000</td>\n",
              "      <td>1.649438e+06</td>\n",
              "      <td>23811.370000</td>\n",
              "      <td>21.800000</td>\n",
              "      <td>51.000000</td>\n",
              "      <td>14.000000</td>\n",
              "      <td>0.000000</td>\n",
              "      <td>3.669945e+05</td>\n",
              "      <td>7.984900e+05</td>\n",
              "      <td>0.000000</td>\n",
              "      <td>0.000000</td>\n",
              "    </tr>\n",
              "    <tr>\n",
              "      <th>max</th>\n",
              "      <td>1.000000e+08</td>\n",
              "      <td>7510.000000</td>\n",
              "      <td>1.655574e+08</td>\n",
              "      <td>435843.280000</td>\n",
              "      <td>70.500000</td>\n",
              "      <td>176.000000</td>\n",
              "      <td>76.000000</td>\n",
              "      <td>15.000000</td>\n",
              "      <td>3.287897e+07</td>\n",
              "      <td>1.539738e+09</td>\n",
              "      <td>7.000000</td>\n",
              "      <td>15.000000</td>\n",
              "    </tr>\n",
              "  </tbody>\n",
              "</table>\n",
              "</div>"
            ],
            "text/plain": [
              "       current_loan_amount  credit_score  annual_income   monthly_debt  \\\n",
              "count         8.199900e+04  64968.000000   6.496800e+04   81999.000000   \n",
              "mean          1.208640e+07   1168.410741   1.376776e+06   18330.633110   \n",
              "std           3.217953e+07   1632.676553   1.121542e+06   12127.700801   \n",
              "min           1.080200e+04    585.000000   7.662700e+04       0.000000   \n",
              "25%           1.792560e+05    711.000000   8.473050e+05   10117.595000   \n",
              "50%           3.077800e+05    731.000000   1.169592e+06   16075.330000   \n",
              "75%           5.194530e+05    743.000000   1.649438e+06   23811.370000   \n",
              "max           1.000000e+08   7510.000000   1.655574e+08  435843.280000   \n",
              "\n",
              "       years_of_credit_history  months_since_last_delinquent  \\\n",
              "count             81999.000000                  37378.000000   \n",
              "mean                 18.296783                     35.064236   \n",
              "std                   7.043774                     22.021222   \n",
              "min                   3.600000                      0.000000   \n",
              "25%                  13.500000                     16.000000   \n",
              "50%                  17.000000                     32.000000   \n",
              "75%                  21.800000                     51.000000   \n",
              "max                  70.500000                    176.000000   \n",
              "\n",
              "       number_of_open_accounts  number_of_credit_problems  \\\n",
              "count             81999.000000               81999.000000   \n",
              "mean                 11.114489                   0.161441   \n",
              "std                   4.981266                   0.473148   \n",
              "min                   0.000000                   0.000000   \n",
              "25%                   8.000000                   0.000000   \n",
              "50%                  10.000000                   0.000000   \n",
              "75%                  14.000000                   0.000000   \n",
              "max                  76.000000                  15.000000   \n",
              "\n",
              "       current_credit_balance  maximum_open_credit  bankruptcies     tax_liens  \n",
              "count            8.199900e+04         8.199700e+04  81824.000000  81991.000000  \n",
              "mean             2.936203e+05         7.935358e+05      0.113463      0.028064  \n",
              "std              3.726145e+05         9.208747e+06      0.344674      0.254642  \n",
              "min              0.000000e+00         0.000000e+00      0.000000      0.000000  \n",
              "25%              1.133160e+05         2.804560e+05      0.000000      0.000000  \n",
              "50%              2.099310e+05         4.777740e+05      0.000000      0.000000  \n",
              "75%              3.669945e+05         7.984900e+05      0.000000      0.000000  \n",
              "max              3.287897e+07         1.539738e+09      7.000000     15.000000  "
            ]
          },
          "execution_count": 51,
          "metadata": {},
          "output_type": "execute_result"
        }
      ],
      "source": [
        "data.describe()"
      ]
    },
    {
      "cell_type": "markdown",
      "metadata": {
        "id": "QUYEC68H34Ml"
      },
      "source": [
        "# Категориальные данные"
      ]
    },
    {
      "cell_type": "code",
      "execution_count": 52,
      "metadata": {
        "id": "IPt6NiNOLS4H"
      },
      "outputs": [],
      "source": [
        "le = preprocessing.LabelEncoder()"
      ]
    },
    {
      "cell_type": "code",
      "execution_count": 53,
      "metadata": {
        "colab": {
          "base_uri": "https://localhost:8080/"
        },
        "id": "sQ3n3H8ujbv_",
        "outputId": "46ec7d97-b45f-4cf5-9225-a57263ae3efb"
      },
      "outputs": [
        {
          "data": {
            "text/plain": [
              "loan_status\n",
              "Fully Paid     59360\n",
              "Charged Off    22639\n",
              "Name: count, dtype: int64"
            ]
          },
          "execution_count": 53,
          "metadata": {},
          "output_type": "execute_result"
        }
      ],
      "source": [
        "data['loan_status'].value_counts(dropna=False)"
      ]
    },
    {
      "cell_type": "code",
      "execution_count": 54,
      "metadata": {
        "colab": {
          "base_uri": "https://localhost:8080/"
        },
        "id": "IzKlo4NzMRf1",
        "outputId": "de9576a6-ac73-46d3-b654-5416f0248d7e"
      },
      "outputs": [
        {
          "data": {
            "text/plain": [
              "term\n",
              "Short Term    61387\n",
              "Long Term     20612\n",
              "Name: count, dtype: int64"
            ]
          },
          "execution_count": 54,
          "metadata": {},
          "output_type": "execute_result"
        }
      ],
      "source": [
        "data['term'].value_counts(dropna=False)"
      ]
    },
    {
      "cell_type": "code",
      "execution_count": 55,
      "metadata": {
        "colab": {
          "base_uri": "https://localhost:8080/"
        },
        "id": "0eyYRtOnMXWX",
        "outputId": "7dcc0b5d-0f7f-464e-8650-597648a4676a"
      },
      "outputs": [
        {
          "data": {
            "text/plain": [
              "years_in_current_job\n",
              "10+ years    25271\n",
              "2 years       7560\n",
              "< 1 year      6755\n",
              "3 years       6671\n",
              "5 years       5619\n",
              "1 year        5317\n",
              "4 years       5029\n",
              "6 years       4702\n",
              "7 years       4566\n",
              "8 years       3781\n",
              "NaN           3508\n",
              "9 years       3220\n",
              "Name: count, dtype: int64"
            ]
          },
          "execution_count": 55,
          "metadata": {},
          "output_type": "execute_result"
        }
      ],
      "source": [
        "data['years_in_current_job'].value_counts(dropna=False)"
      ]
    },
    {
      "cell_type": "code",
      "execution_count": 56,
      "metadata": {
        "colab": {
          "base_uri": "https://localhost:8080/"
        },
        "id": "RAc4-082Mm03",
        "outputId": "f5e1db3b-f578-4799-96a2-b6a9d581ec62"
      },
      "outputs": [
        {
          "data": {
            "text/plain": [
              "home_ownership\n",
              "Home Mortgage    39879\n",
              "Rent             34499\n",
              "Own Home          7458\n",
              "HaveMortgage       163\n",
              "Name: count, dtype: int64"
            ]
          },
          "execution_count": 56,
          "metadata": {},
          "output_type": "execute_result"
        }
      ],
      "source": [
        "data['home_ownership'].value_counts(dropna=False)"
      ]
    },
    {
      "cell_type": "code",
      "execution_count": 57,
      "metadata": {
        "colab": {
          "base_uri": "https://localhost:8080/"
        },
        "id": "HvYisCNpM4go",
        "outputId": "13f8b29a-93bf-497d-f8c9-0ee306d11ef5"
      },
      "outputs": [
        {
          "data": {
            "text/plain": [
              "purpose\n",
              "Debt Consolidation      64907\n",
              "Home Improvements        4795\n",
              "other                    4604\n",
              "Other                    2634\n",
              "Business Loan            1229\n",
              "Buy a Car                1081\n",
              "Medical Bills             880\n",
              "Buy House                 519\n",
              "Take a Trip               435\n",
              "major_purchase            303\n",
              "small_business            230\n",
              "moving                    116\n",
              "wedding                    93\n",
              "Educational Expenses       85\n",
              "vacation                   80\n",
              "renewable_energy            8\n",
              "Name: count, dtype: int64"
            ]
          },
          "execution_count": 57,
          "metadata": {},
          "output_type": "execute_result"
        }
      ],
      "source": [
        "data['purpose'].value_counts(dropna=False)"
      ]
    },
    {
      "cell_type": "code",
      "execution_count": 58,
      "metadata": {
        "colab": {
          "base_uri": "https://localhost:8080/",
          "height": 163
        },
        "id": "2Ffep5EsLgKM",
        "outputId": "cca2d46d-026d-4988-9023-bd6f62f642a6"
      },
      "outputs": [
        {
          "data": {
            "text/html": [
              "<div>\n",
              "<style scoped>\n",
              "    .dataframe tbody tr th:only-of-type {\n",
              "        vertical-align: middle;\n",
              "    }\n",
              "\n",
              "    .dataframe tbody tr th {\n",
              "        vertical-align: top;\n",
              "    }\n",
              "\n",
              "    .dataframe thead th {\n",
              "        text-align: right;\n",
              "    }\n",
              "</style>\n",
              "<table border=\"1\" class=\"dataframe\">\n",
              "  <thead>\n",
              "    <tr style=\"text-align: right;\">\n",
              "      <th></th>\n",
              "      <th>loan_status</th>\n",
              "      <th>current_loan_amount</th>\n",
              "      <th>term</th>\n",
              "      <th>credit_score</th>\n",
              "      <th>annual_income</th>\n",
              "      <th>years_in_current_job</th>\n",
              "      <th>home_ownership</th>\n",
              "      <th>purpose</th>\n",
              "      <th>monthly_debt</th>\n",
              "      <th>years_of_credit_history</th>\n",
              "      <th>months_since_last_delinquent</th>\n",
              "      <th>number_of_open_accounts</th>\n",
              "      <th>number_of_credit_problems</th>\n",
              "      <th>current_credit_balance</th>\n",
              "      <th>maximum_open_credit</th>\n",
              "      <th>bankruptcies</th>\n",
              "      <th>tax_liens</th>\n",
              "    </tr>\n",
              "  </thead>\n",
              "  <tbody>\n",
              "    <tr>\n",
              "      <th>0</th>\n",
              "      <td>1</td>\n",
              "      <td>445412</td>\n",
              "      <td>1</td>\n",
              "      <td>709.0</td>\n",
              "      <td>1167493.0</td>\n",
              "      <td>8</td>\n",
              "      <td>1</td>\n",
              "      <td>5</td>\n",
              "      <td>5214.74</td>\n",
              "      <td>17.2</td>\n",
              "      <td>NaN</td>\n",
              "      <td>6</td>\n",
              "      <td>1</td>\n",
              "      <td>228190</td>\n",
              "      <td>416746.0</td>\n",
              "      <td>1.0</td>\n",
              "      <td>0.0</td>\n",
              "    </tr>\n",
              "    <tr>\n",
              "      <th>1</th>\n",
              "      <td>1</td>\n",
              "      <td>262328</td>\n",
              "      <td>1</td>\n",
              "      <td>NaN</td>\n",
              "      <td>NaN</td>\n",
              "      <td>1</td>\n",
              "      <td>1</td>\n",
              "      <td>3</td>\n",
              "      <td>33295.98</td>\n",
              "      <td>21.1</td>\n",
              "      <td>8.0</td>\n",
              "      <td>35</td>\n",
              "      <td>0</td>\n",
              "      <td>229976</td>\n",
              "      <td>850784.0</td>\n",
              "      <td>0.0</td>\n",
              "      <td>0.0</td>\n",
              "    </tr>\n",
              "    <tr>\n",
              "      <th>2</th>\n",
              "      <td>1</td>\n",
              "      <td>99999999</td>\n",
              "      <td>1</td>\n",
              "      <td>741.0</td>\n",
              "      <td>2231892.0</td>\n",
              "      <td>8</td>\n",
              "      <td>2</td>\n",
              "      <td>3</td>\n",
              "      <td>29200.53</td>\n",
              "      <td>14.9</td>\n",
              "      <td>29.0</td>\n",
              "      <td>18</td>\n",
              "      <td>1</td>\n",
              "      <td>297996</td>\n",
              "      <td>750090.0</td>\n",
              "      <td>0.0</td>\n",
              "      <td>0.0</td>\n",
              "    </tr>\n",
              "  </tbody>\n",
              "</table>\n",
              "</div>"
            ],
            "text/plain": [
              "   loan_status  current_loan_amount  term  credit_score  annual_income  \\\n",
              "0            1               445412     1         709.0      1167493.0   \n",
              "1            1               262328     1           NaN            NaN   \n",
              "2            1             99999999     1         741.0      2231892.0   \n",
              "\n",
              "   years_in_current_job  home_ownership  purpose  monthly_debt  \\\n",
              "0                     8               1        5       5214.74   \n",
              "1                     1               1        3      33295.98   \n",
              "2                     8               2        3      29200.53   \n",
              "\n",
              "   years_of_credit_history  months_since_last_delinquent  \\\n",
              "0                     17.2                           NaN   \n",
              "1                     21.1                           8.0   \n",
              "2                     14.9                          29.0   \n",
              "\n",
              "   number_of_open_accounts  number_of_credit_problems  current_credit_balance  \\\n",
              "0                        6                          1                  228190   \n",
              "1                       35                          0                  229976   \n",
              "2                       18                          1                  297996   \n",
              "\n",
              "   maximum_open_credit  bankruptcies  tax_liens  \n",
              "0             416746.0           1.0        0.0  \n",
              "1             850784.0           0.0        0.0  \n",
              "2             750090.0           0.0        0.0  "
            ]
          },
          "execution_count": 58,
          "metadata": {},
          "output_type": "execute_result"
        }
      ],
      "source": [
        "data['loan_status'] = le.fit_transform(data['loan_status'])\n",
        "data['term'] = le.fit_transform(data['term'])\n",
        "data['years_in_current_job'] = le.fit_transform(data['years_in_current_job'])\n",
        "data['home_ownership'] = le.fit_transform(data['home_ownership'])\n",
        "data['purpose'] = le.fit_transform(data['purpose'])\n",
        "\n",
        "data.head(3)"
      ]
    },
    {
      "cell_type": "code",
      "execution_count": 59,
      "metadata": {
        "id": "SR4RSRcxEbaS"
      },
      "outputs": [],
      "source": [
        "test['term'] = le.fit_transform(test['term'])\n",
        "test['years_in_current_job'] = le.fit_transform(test['years_in_current_job'])\n",
        "test['home_ownership'] = le.fit_transform(test['home_ownership'])\n",
        "test['purpose'] = le.fit_transform(test['purpose'])"
      ]
    },
    {
      "cell_type": "markdown",
      "metadata": {
        "id": "YNn3yMtYNkpQ"
      },
      "source": [
        "# Пропуски"
      ]
    },
    {
      "cell_type": "code",
      "execution_count": 60,
      "metadata": {
        "colab": {
          "base_uri": "https://localhost:8080/"
        },
        "id": "SgJyblrlA5V3",
        "outputId": "4ec4a563-faf1-4b5f-fff2-43001ba9fc7a"
      },
      "outputs": [
        {
          "data": {
            "text/plain": [
              "loan_status                         0\n",
              "current_loan_amount                 0\n",
              "term                                0\n",
              "credit_score                    17031\n",
              "annual_income                   17031\n",
              "years_in_current_job                0\n",
              "home_ownership                      0\n",
              "purpose                             0\n",
              "monthly_debt                        0\n",
              "years_of_credit_history             0\n",
              "months_since_last_delinquent    44621\n",
              "number_of_open_accounts             0\n",
              "number_of_credit_problems           0\n",
              "current_credit_balance              0\n",
              "maximum_open_credit                 2\n",
              "bankruptcies                      175\n",
              "tax_liens                           8\n",
              "dtype: int64"
            ]
          },
          "execution_count": 60,
          "metadata": {},
          "output_type": "execute_result"
        }
      ],
      "source": [
        "data.isna().sum()"
      ]
    },
    {
      "cell_type": "code",
      "execution_count": 61,
      "metadata": {
        "colab": {
          "base_uri": "https://localhost:8080/"
        },
        "id": "o03YnRKyOXHe",
        "outputId": "30fd71b8-61f9-455d-ea55-e49f0b5e373b"
      },
      "outputs": [
        {
          "data": {
            "text/plain": [
              "loan_status                     0\n",
              "current_loan_amount             0\n",
              "term                            0\n",
              "credit_score                    0\n",
              "annual_income                   0\n",
              "years_in_current_job            0\n",
              "home_ownership                  0\n",
              "purpose                         0\n",
              "monthly_debt                    0\n",
              "years_of_credit_history         0\n",
              "months_since_last_delinquent    0\n",
              "number_of_open_accounts         0\n",
              "number_of_credit_problems       0\n",
              "current_credit_balance          0\n",
              "maximum_open_credit             0\n",
              "bankruptcies                    0\n",
              "tax_liens                       0\n",
              "dtype: int64"
            ]
          },
          "execution_count": 61,
          "metadata": {},
          "output_type": "execute_result"
        }
      ],
      "source": [
        "data['credit_score'].fillna(data['credit_score'].median(), inplace=True)\n",
        "data['annual_income'].fillna(data['annual_income'].mean(), inplace=True)\n",
        "data['months_since_last_delinquent'].fillna(data['months_since_last_delinquent'].mean(), inplace=True)\n",
        "data['maximum_open_credit'].fillna(data['maximum_open_credit'].median(), inplace=True)\n",
        "data['bankruptcies'].fillna(data['bankruptcies'].mean(), inplace=True)\n",
        "data['tax_liens'].fillna(data['tax_liens'].median(), inplace=True)\n",
        "\n",
        "data.isnull().sum()"
      ]
    },
    {
      "cell_type": "code",
      "execution_count": 62,
      "metadata": {
        "id": "nkJX2PelEql7"
      },
      "outputs": [],
      "source": [
        "test['credit_score'].fillna(test['credit_score'].median(), inplace=True)\n",
        "test['annual_income'].fillna(test['annual_income'].mean(), inplace=True)\n",
        "test['months_since_last_delinquent'].fillna(test['months_since_last_delinquent'].mean(), inplace=True)\n",
        "test['maximum_open_credit'].fillna(test['maximum_open_credit'].median(), inplace=True)\n",
        "test['bankruptcies'].fillna(test['bankruptcies'].mean(), inplace=True)\n",
        "test['tax_liens'].fillna(test['tax_liens'].median(), inplace=True)"
      ]
    },
    {
      "cell_type": "code",
      "execution_count": 63,
      "metadata": {
        "colab": {
          "base_uri": "https://localhost:8080/",
          "height": 163
        },
        "id": "H_r5ARtJirq3",
        "outputId": "80bb0465-c131-4a97-f95d-5ff15d6c7786"
      },
      "outputs": [
        {
          "data": {
            "text/html": [
              "<div>\n",
              "<style scoped>\n",
              "    .dataframe tbody tr th:only-of-type {\n",
              "        vertical-align: middle;\n",
              "    }\n",
              "\n",
              "    .dataframe tbody tr th {\n",
              "        vertical-align: top;\n",
              "    }\n",
              "\n",
              "    .dataframe thead th {\n",
              "        text-align: right;\n",
              "    }\n",
              "</style>\n",
              "<table border=\"1\" class=\"dataframe\">\n",
              "  <thead>\n",
              "    <tr style=\"text-align: right;\">\n",
              "      <th></th>\n",
              "      <th>loan_status</th>\n",
              "      <th>current_loan_amount</th>\n",
              "      <th>term</th>\n",
              "      <th>credit_score</th>\n",
              "      <th>annual_income</th>\n",
              "      <th>years_in_current_job</th>\n",
              "      <th>home_ownership</th>\n",
              "      <th>purpose</th>\n",
              "      <th>monthly_debt</th>\n",
              "      <th>years_of_credit_history</th>\n",
              "      <th>months_since_last_delinquent</th>\n",
              "      <th>number_of_open_accounts</th>\n",
              "      <th>number_of_credit_problems</th>\n",
              "      <th>current_credit_balance</th>\n",
              "      <th>maximum_open_credit</th>\n",
              "      <th>bankruptcies</th>\n",
              "      <th>tax_liens</th>\n",
              "    </tr>\n",
              "  </thead>\n",
              "  <tbody>\n",
              "    <tr>\n",
              "      <th>0</th>\n",
              "      <td>1</td>\n",
              "      <td>445412</td>\n",
              "      <td>1</td>\n",
              "      <td>709.0</td>\n",
              "      <td>1.167493e+06</td>\n",
              "      <td>8</td>\n",
              "      <td>1</td>\n",
              "      <td>5</td>\n",
              "      <td>5214.74</td>\n",
              "      <td>17.2</td>\n",
              "      <td>35.064236</td>\n",
              "      <td>6</td>\n",
              "      <td>1</td>\n",
              "      <td>228190</td>\n",
              "      <td>416746.0</td>\n",
              "      <td>1.0</td>\n",
              "      <td>0.0</td>\n",
              "    </tr>\n",
              "    <tr>\n",
              "      <th>1</th>\n",
              "      <td>1</td>\n",
              "      <td>262328</td>\n",
              "      <td>1</td>\n",
              "      <td>731.0</td>\n",
              "      <td>1.376776e+06</td>\n",
              "      <td>1</td>\n",
              "      <td>1</td>\n",
              "      <td>3</td>\n",
              "      <td>33295.98</td>\n",
              "      <td>21.1</td>\n",
              "      <td>8.000000</td>\n",
              "      <td>35</td>\n",
              "      <td>0</td>\n",
              "      <td>229976</td>\n",
              "      <td>850784.0</td>\n",
              "      <td>0.0</td>\n",
              "      <td>0.0</td>\n",
              "    </tr>\n",
              "    <tr>\n",
              "      <th>2</th>\n",
              "      <td>1</td>\n",
              "      <td>99999999</td>\n",
              "      <td>1</td>\n",
              "      <td>741.0</td>\n",
              "      <td>2.231892e+06</td>\n",
              "      <td>8</td>\n",
              "      <td>2</td>\n",
              "      <td>3</td>\n",
              "      <td>29200.53</td>\n",
              "      <td>14.9</td>\n",
              "      <td>29.000000</td>\n",
              "      <td>18</td>\n",
              "      <td>1</td>\n",
              "      <td>297996</td>\n",
              "      <td>750090.0</td>\n",
              "      <td>0.0</td>\n",
              "      <td>0.0</td>\n",
              "    </tr>\n",
              "  </tbody>\n",
              "</table>\n",
              "</div>"
            ],
            "text/plain": [
              "   loan_status  current_loan_amount  term  credit_score  annual_income  \\\n",
              "0            1               445412     1         709.0   1.167493e+06   \n",
              "1            1               262328     1         731.0   1.376776e+06   \n",
              "2            1             99999999     1         741.0   2.231892e+06   \n",
              "\n",
              "   years_in_current_job  home_ownership  purpose  monthly_debt  \\\n",
              "0                     8               1        5       5214.74   \n",
              "1                     1               1        3      33295.98   \n",
              "2                     8               2        3      29200.53   \n",
              "\n",
              "   years_of_credit_history  months_since_last_delinquent  \\\n",
              "0                     17.2                     35.064236   \n",
              "1                     21.1                      8.000000   \n",
              "2                     14.9                     29.000000   \n",
              "\n",
              "   number_of_open_accounts  number_of_credit_problems  current_credit_balance  \\\n",
              "0                        6                          1                  228190   \n",
              "1                       35                          0                  229976   \n",
              "2                       18                          1                  297996   \n",
              "\n",
              "   maximum_open_credit  bankruptcies  tax_liens  \n",
              "0             416746.0           1.0        0.0  \n",
              "1             850784.0           0.0        0.0  \n",
              "2             750090.0           0.0        0.0  "
            ]
          },
          "execution_count": 63,
          "metadata": {},
          "output_type": "execute_result"
        }
      ],
      "source": [
        "data.head(3)"
      ]
    },
    {
      "cell_type": "markdown",
      "metadata": {
        "id": "UdYWq3yjyyUO"
      },
      "source": [
        "# Оценка важности признаков"
      ]
    },
    {
      "cell_type": "code",
      "execution_count": 64,
      "metadata": {
        "id": "Z8db0LvqxacD"
      },
      "outputs": [],
      "source": [
        "# Разбиение\n",
        "from sklearn.model_selection import train_test_split\n",
        "X, y = data.iloc[:, 1:].values, data.iloc[:, 0].values\n",
        "X_train, X_test, y_train, y_test = train_test_split(X, y, test_size=0.3, random_state=0, stratify=y)"
      ]
    },
    {
      "cell_type": "code",
      "execution_count": 65,
      "metadata": {
        "colab": {
          "base_uri": "https://localhost:8080/"
        },
        "id": "cBWvFf7d_v0u",
        "outputId": "07b9ac78-6b57-4796-e15c-62c2b4f65a8c"
      },
      "outputs": [
        {
          "data": {
            "text/plain": [
              "(57399, 16)"
            ]
          },
          "execution_count": 65,
          "metadata": {},
          "output_type": "execute_result"
        }
      ],
      "source": [
        "X_train.shape"
      ]
    },
    {
      "cell_type": "code",
      "execution_count": 66,
      "metadata": {
        "id": "bnZ17jB_y4SM"
      },
      "outputs": [],
      "source": [
        "from sklearn.ensemble import RandomForestClassifier"
      ]
    },
    {
      "cell_type": "code",
      "execution_count": 67,
      "metadata": {
        "id": "F2yGBwPDzHpc"
      },
      "outputs": [],
      "source": [
        "feat_labels = data.columns[1:]\n",
        "forest = RandomForestClassifier(n_estimators=500, random_state=1)"
      ]
    },
    {
      "cell_type": "code",
      "execution_count": 68,
      "metadata": {
        "colab": {
          "base_uri": "https://localhost:8080/",
          "height": 75
        },
        "id": "6cWBbNRi07qd",
        "outputId": "a57db2da-867c-406e-a4ac-0a986bec911d"
      },
      "outputs": [
        {
          "data": {
            "text/html": [
              "<style>#sk-container-id-1 {color: black;}#sk-container-id-1 pre{padding: 0;}#sk-container-id-1 div.sk-toggleable {background-color: white;}#sk-container-id-1 label.sk-toggleable__label {cursor: pointer;display: block;width: 100%;margin-bottom: 0;padding: 0.3em;box-sizing: border-box;text-align: center;}#sk-container-id-1 label.sk-toggleable__label-arrow:before {content: \"▸\";float: left;margin-right: 0.25em;color: #696969;}#sk-container-id-1 label.sk-toggleable__label-arrow:hover:before {color: black;}#sk-container-id-1 div.sk-estimator:hover label.sk-toggleable__label-arrow:before {color: black;}#sk-container-id-1 div.sk-toggleable__content {max-height: 0;max-width: 0;overflow: hidden;text-align: left;background-color: #f0f8ff;}#sk-container-id-1 div.sk-toggleable__content pre {margin: 0.2em;color: black;border-radius: 0.25em;background-color: #f0f8ff;}#sk-container-id-1 input.sk-toggleable__control:checked~div.sk-toggleable__content {max-height: 200px;max-width: 100%;overflow: auto;}#sk-container-id-1 input.sk-toggleable__control:checked~label.sk-toggleable__label-arrow:before {content: \"▾\";}#sk-container-id-1 div.sk-estimator input.sk-toggleable__control:checked~label.sk-toggleable__label {background-color: #d4ebff;}#sk-container-id-1 div.sk-label input.sk-toggleable__control:checked~label.sk-toggleable__label {background-color: #d4ebff;}#sk-container-id-1 input.sk-hidden--visually {border: 0;clip: rect(1px 1px 1px 1px);clip: rect(1px, 1px, 1px, 1px);height: 1px;margin: -1px;overflow: hidden;padding: 0;position: absolute;width: 1px;}#sk-container-id-1 div.sk-estimator {font-family: monospace;background-color: #f0f8ff;border: 1px dotted black;border-radius: 0.25em;box-sizing: border-box;margin-bottom: 0.5em;}#sk-container-id-1 div.sk-estimator:hover {background-color: #d4ebff;}#sk-container-id-1 div.sk-parallel-item::after {content: \"\";width: 100%;border-bottom: 1px solid gray;flex-grow: 1;}#sk-container-id-1 div.sk-label:hover label.sk-toggleable__label {background-color: #d4ebff;}#sk-container-id-1 div.sk-serial::before {content: \"\";position: absolute;border-left: 1px solid gray;box-sizing: border-box;top: 0;bottom: 0;left: 50%;z-index: 0;}#sk-container-id-1 div.sk-serial {display: flex;flex-direction: column;align-items: center;background-color: white;padding-right: 0.2em;padding-left: 0.2em;position: relative;}#sk-container-id-1 div.sk-item {position: relative;z-index: 1;}#sk-container-id-1 div.sk-parallel {display: flex;align-items: stretch;justify-content: center;background-color: white;position: relative;}#sk-container-id-1 div.sk-item::before, #sk-container-id-1 div.sk-parallel-item::before {content: \"\";position: absolute;border-left: 1px solid gray;box-sizing: border-box;top: 0;bottom: 0;left: 50%;z-index: -1;}#sk-container-id-1 div.sk-parallel-item {display: flex;flex-direction: column;z-index: 1;position: relative;background-color: white;}#sk-container-id-1 div.sk-parallel-item:first-child::after {align-self: flex-end;width: 50%;}#sk-container-id-1 div.sk-parallel-item:last-child::after {align-self: flex-start;width: 50%;}#sk-container-id-1 div.sk-parallel-item:only-child::after {width: 0;}#sk-container-id-1 div.sk-dashed-wrapped {border: 1px dashed gray;margin: 0 0.4em 0.5em 0.4em;box-sizing: border-box;padding-bottom: 0.4em;background-color: white;}#sk-container-id-1 div.sk-label label {font-family: monospace;font-weight: bold;display: inline-block;line-height: 1.2em;}#sk-container-id-1 div.sk-label-container {text-align: center;}#sk-container-id-1 div.sk-container {/* jupyter's `normalize.less` sets `[hidden] { display: none; }` but bootstrap.min.css set `[hidden] { display: none !important; }` so we also need the `!important` here to be able to override the default hidden behavior on the sphinx rendered scikit-learn.org. See: https://github.com/scikit-learn/scikit-learn/issues/21755 */display: inline-block !important;position: relative;}#sk-container-id-1 div.sk-text-repr-fallback {display: none;}</style><div id=\"sk-container-id-1\" class=\"sk-top-container\"><div class=\"sk-text-repr-fallback\"><pre>RandomForestClassifier(n_estimators=500, random_state=1)</pre><b>In a Jupyter environment, please rerun this cell to show the HTML representation or trust the notebook. <br />On GitHub, the HTML representation is unable to render, please try loading this page with nbviewer.org.</b></div><div class=\"sk-container\" hidden><div class=\"sk-item\"><div class=\"sk-estimator sk-toggleable\"><input class=\"sk-toggleable__control sk-hidden--visually\" id=\"sk-estimator-id-1\" type=\"checkbox\" checked><label for=\"sk-estimator-id-1\" class=\"sk-toggleable__label sk-toggleable__label-arrow\">RandomForestClassifier</label><div class=\"sk-toggleable__content\"><pre>RandomForestClassifier(n_estimators=500, random_state=1)</pre></div></div></div></div></div>"
            ],
            "text/plain": [
              "RandomForestClassifier(n_estimators=500, random_state=1)"
            ]
          },
          "execution_count": 68,
          "metadata": {},
          "output_type": "execute_result"
        }
      ],
      "source": [
        "forest.fit(X_train, y_train)"
      ]
    },
    {
      "cell_type": "code",
      "execution_count": 69,
      "metadata": {
        "id": "NBEn5yS71Q8P"
      },
      "outputs": [],
      "source": [
        "importances = forest.feature_importances_\n",
        "indices=np.argsort(importances)[::-1]"
      ]
    },
    {
      "cell_type": "code",
      "execution_count": 70,
      "metadata": {
        "colab": {
          "base_uri": "https://localhost:8080/",
          "height": 765
        },
        "id": "sJIXwVjN1h3w",
        "outputId": "26265a22-437b-46b1-9a44-f6ea55ce9f1d"
      },
      "outputs": [
        {
          "name": "stdout",
          "output_type": "stream",
          "text": [
            " 1) credit_score                   0.208720\n",
            " 2) current_loan_amount            0.131713\n",
            " 3) maximum_open_credit            0.092406\n",
            " 4) monthly_debt                   0.091183\n",
            " 5) current_credit_balance         0.089994\n",
            " 6) years_of_credit_history        0.083816\n",
            " 7) annual_income                  0.077574\n",
            " 8) number_of_open_accounts        0.056941\n",
            " 9) months_since_last_delinquent   0.050668\n",
            "10) years_in_current_job           0.044158\n",
            "11) term                           0.021215\n",
            "12) purpose                        0.021120\n",
            "13) home_ownership                 0.012833\n",
            "14) number_of_credit_problems      0.008396\n",
            "15) bankruptcies                   0.006512\n",
            "16) tax_liens                      0.002751\n"
          ]
        },
        {
          "data": {
            "image/png": "[encoded data removed]",
            "text/plain": [
              "<Figure size 640x480 with 1 Axes>"
            ]
          },
          "metadata": {},
          "output_type": "display_data"
        }
      ],
      "source": [
        "for f in range(X_train.shape[1]):\n",
        "  print(\"%2d) %-*s %f\" % (f + 1, 30,\n",
        "                       feat_labels[indices[f]],\n",
        "                       importances[indices[f]]))\n",
        "plt.title('Важность признаков')\n",
        "plt.bar(range(X_train.shape[1]),\n",
        "        importances[indices],\n",
        "        align='center')\n",
        "\n",
        "plt.xticks(range(X_train.shape[1]),\n",
        "           feat_labels[indices], rotation = 0)\n",
        "plt.xlim([-1, X_train.shape[1]])\n",
        "plt.tight_layout()\n",
        "plt.show()"
      ]
    },
    {
      "cell_type": "code",
      "execution_count": 71,
      "metadata": {
        "colab": {
          "base_uri": "https://localhost:8080/",
          "height": 444
        },
        "id": "R_mp_pYC4eAz",
        "outputId": "1280c18f-c5bd-4827-925b-1fba98563c84"
      },
      "outputs": [
        {
          "data": {
            "text/html": [
              "<div>\n",
              "<style scoped>\n",
              "    .dataframe tbody tr th:only-of-type {\n",
              "        vertical-align: middle;\n",
              "    }\n",
              "\n",
              "    .dataframe tbody tr th {\n",
              "        vertical-align: top;\n",
              "    }\n",
              "\n",
              "    .dataframe thead th {\n",
              "        text-align: right;\n",
              "    }\n",
              "</style>\n",
              "<table border=\"1\" class=\"dataframe\">\n",
              "  <thead>\n",
              "    <tr style=\"text-align: right;\">\n",
              "      <th></th>\n",
              "      <th>loan_status</th>\n",
              "      <th>current_loan_amount</th>\n",
              "      <th>term</th>\n",
              "      <th>credit_score</th>\n",
              "      <th>annual_income</th>\n",
              "      <th>years_in_current_job</th>\n",
              "      <th>home_ownership</th>\n",
              "      <th>purpose</th>\n",
              "      <th>monthly_debt</th>\n",
              "      <th>years_of_credit_history</th>\n",
              "      <th>months_since_last_delinquent</th>\n",
              "      <th>number_of_open_accounts</th>\n",
              "      <th>number_of_credit_problems</th>\n",
              "      <th>current_credit_balance</th>\n",
              "      <th>maximum_open_credit</th>\n",
              "    </tr>\n",
              "  </thead>\n",
              "  <tbody>\n",
              "    <tr>\n",
              "      <th>0</th>\n",
              "      <td>1</td>\n",
              "      <td>445412</td>\n",
              "      <td>1</td>\n",
              "      <td>709.0</td>\n",
              "      <td>1.167493e+06</td>\n",
              "      <td>8</td>\n",
              "      <td>1</td>\n",
              "      <td>5</td>\n",
              "      <td>5214.74</td>\n",
              "      <td>17.2</td>\n",
              "      <td>35.064236</td>\n",
              "      <td>6</td>\n",
              "      <td>1</td>\n",
              "      <td>228190</td>\n",
              "      <td>416746.0</td>\n",
              "    </tr>\n",
              "    <tr>\n",
              "      <th>1</th>\n",
              "      <td>1</td>\n",
              "      <td>262328</td>\n",
              "      <td>1</td>\n",
              "      <td>731.0</td>\n",
              "      <td>1.376776e+06</td>\n",
              "      <td>1</td>\n",
              "      <td>1</td>\n",
              "      <td>3</td>\n",
              "      <td>33295.98</td>\n",
              "      <td>21.1</td>\n",
              "      <td>8.000000</td>\n",
              "      <td>35</td>\n",
              "      <td>0</td>\n",
              "      <td>229976</td>\n",
              "      <td>850784.0</td>\n",
              "    </tr>\n",
              "    <tr>\n",
              "      <th>2</th>\n",
              "      <td>1</td>\n",
              "      <td>99999999</td>\n",
              "      <td>1</td>\n",
              "      <td>741.0</td>\n",
              "      <td>2.231892e+06</td>\n",
              "      <td>8</td>\n",
              "      <td>2</td>\n",
              "      <td>3</td>\n",
              "      <td>29200.53</td>\n",
              "      <td>14.9</td>\n",
              "      <td>29.000000</td>\n",
              "      <td>18</td>\n",
              "      <td>1</td>\n",
              "      <td>297996</td>\n",
              "      <td>750090.0</td>\n",
              "    </tr>\n",
              "    <tr>\n",
              "      <th>3</th>\n",
              "      <td>1</td>\n",
              "      <td>347666</td>\n",
              "      <td>0</td>\n",
              "      <td>721.0</td>\n",
              "      <td>8.069490e+05</td>\n",
              "      <td>3</td>\n",
              "      <td>2</td>\n",
              "      <td>3</td>\n",
              "      <td>8741.90</td>\n",
              "      <td>12.0</td>\n",
              "      <td>35.064236</td>\n",
              "      <td>9</td>\n",
              "      <td>0</td>\n",
              "      <td>256329</td>\n",
              "      <td>386958.0</td>\n",
              "    </tr>\n",
              "    <tr>\n",
              "      <th>4</th>\n",
              "      <td>1</td>\n",
              "      <td>176220</td>\n",
              "      <td>1</td>\n",
              "      <td>731.0</td>\n",
              "      <td>1.376776e+06</td>\n",
              "      <td>5</td>\n",
              "      <td>3</td>\n",
              "      <td>3</td>\n",
              "      <td>20639.70</td>\n",
              "      <td>6.1</td>\n",
              "      <td>35.064236</td>\n",
              "      <td>15</td>\n",
              "      <td>0</td>\n",
              "      <td>253460</td>\n",
              "      <td>427174.0</td>\n",
              "    </tr>\n",
              "    <tr>\n",
              "      <th>...</th>\n",
              "      <td>...</td>\n",
              "      <td>...</td>\n",
              "      <td>...</td>\n",
              "      <td>...</td>\n",
              "      <td>...</td>\n",
              "      <td>...</td>\n",
              "      <td>...</td>\n",
              "      <td>...</td>\n",
              "      <td>...</td>\n",
              "      <td>...</td>\n",
              "      <td>...</td>\n",
              "      <td>...</td>\n",
              "      <td>...</td>\n",
              "      <td>...</td>\n",
              "      <td>...</td>\n",
              "    </tr>\n",
              "    <tr>\n",
              "      <th>99990</th>\n",
              "      <td>1</td>\n",
              "      <td>99999999</td>\n",
              "      <td>1</td>\n",
              "      <td>742.0</td>\n",
              "      <td>1.190046e+06</td>\n",
              "      <td>10</td>\n",
              "      <td>3</td>\n",
              "      <td>11</td>\n",
              "      <td>11969.81</td>\n",
              "      <td>20.1</td>\n",
              "      <td>16.000000</td>\n",
              "      <td>9</td>\n",
              "      <td>0</td>\n",
              "      <td>37392</td>\n",
              "      <td>134442.0</td>\n",
              "    </tr>\n",
              "    <tr>\n",
              "      <th>99996</th>\n",
              "      <td>1</td>\n",
              "      <td>99999999</td>\n",
              "      <td>1</td>\n",
              "      <td>732.0</td>\n",
              "      <td>1.289416e+06</td>\n",
              "      <td>0</td>\n",
              "      <td>3</td>\n",
              "      <td>3</td>\n",
              "      <td>13109.05</td>\n",
              "      <td>9.4</td>\n",
              "      <td>21.000000</td>\n",
              "      <td>22</td>\n",
              "      <td>0</td>\n",
              "      <td>153045</td>\n",
              "      <td>509234.0</td>\n",
              "    </tr>\n",
              "    <tr>\n",
              "      <th>99997</th>\n",
              "      <td>1</td>\n",
              "      <td>103136</td>\n",
              "      <td>1</td>\n",
              "      <td>742.0</td>\n",
              "      <td>1.150545e+06</td>\n",
              "      <td>6</td>\n",
              "      <td>3</td>\n",
              "      <td>3</td>\n",
              "      <td>7315.57</td>\n",
              "      <td>18.8</td>\n",
              "      <td>18.000000</td>\n",
              "      <td>12</td>\n",
              "      <td>1</td>\n",
              "      <td>109554</td>\n",
              "      <td>537548.0</td>\n",
              "    </tr>\n",
              "    <tr>\n",
              "      <th>99998</th>\n",
              "      <td>1</td>\n",
              "      <td>530332</td>\n",
              "      <td>1</td>\n",
              "      <td>746.0</td>\n",
              "      <td>1.717524e+06</td>\n",
              "      <td>9</td>\n",
              "      <td>3</td>\n",
              "      <td>3</td>\n",
              "      <td>9890.07</td>\n",
              "      <td>15.0</td>\n",
              "      <td>35.064236</td>\n",
              "      <td>8</td>\n",
              "      <td>0</td>\n",
              "      <td>404225</td>\n",
              "      <td>738254.0</td>\n",
              "    </tr>\n",
              "    <tr>\n",
              "      <th>99999</th>\n",
              "      <td>1</td>\n",
              "      <td>99999999</td>\n",
              "      <td>1</td>\n",
              "      <td>743.0</td>\n",
              "      <td>9.351800e+05</td>\n",
              "      <td>11</td>\n",
              "      <td>2</td>\n",
              "      <td>3</td>\n",
              "      <td>9118.10</td>\n",
              "      <td>13.0</td>\n",
              "      <td>35.064236</td>\n",
              "      <td>4</td>\n",
              "      <td>1</td>\n",
              "      <td>45600</td>\n",
              "      <td>91014.0</td>\n",
              "    </tr>\n",
              "  </tbody>\n",
              "</table>\n",
              "<p>81999 rows × 15 columns</p>\n",
              "</div>"
            ],
            "text/plain": [
              "       loan_status  current_loan_amount  term  credit_score  annual_income  \\\n",
              "0                1               445412     1         709.0   1.167493e+06   \n",
              "1                1               262328     1         731.0   1.376776e+06   \n",
              "2                1             99999999     1         741.0   2.231892e+06   \n",
              "3                1               347666     0         721.0   8.069490e+05   \n",
              "4                1               176220     1         731.0   1.376776e+06   \n",
              "...            ...                  ...   ...           ...            ...   \n",
              "99990            1             99999999     1         742.0   1.190046e+06   \n",
              "99996            1             99999999     1         732.0   1.289416e+06   \n",
              "99997            1               103136     1         742.0   1.150545e+06   \n",
              "99998            1               530332     1         746.0   1.717524e+06   \n",
              "99999            1             99999999     1         743.0   9.351800e+05   \n",
              "\n",
              "       years_in_current_job  home_ownership  purpose  monthly_debt  \\\n",
              "0                         8               1        5       5214.74   \n",
              "1                         1               1        3      33295.98   \n",
              "2                         8               2        3      29200.53   \n",
              "3                         3               2        3       8741.90   \n",
              "4                         5               3        3      20639.70   \n",
              "...                     ...             ...      ...           ...   \n",
              "99990                    10               3       11      11969.81   \n",
              "99996                     0               3        3      13109.05   \n",
              "99997                     6               3        3       7315.57   \n",
              "99998                     9               3        3       9890.07   \n",
              "99999                    11               2        3       9118.10   \n",
              "\n",
              "       years_of_credit_history  months_since_last_delinquent  \\\n",
              "0                         17.2                     35.064236   \n",
              "1                         21.1                      8.000000   \n",
              "2                         14.9                     29.000000   \n",
              "3                         12.0                     35.064236   \n",
              "4                          6.1                     35.064236   \n",
              "...                        ...                           ...   \n",
              "99990                     20.1                     16.000000   \n",
              "99996                      9.4                     21.000000   \n",
              "99997                     18.8                     18.000000   \n",
              "99998                     15.0                     35.064236   \n",
              "99999                     13.0                     35.064236   \n",
              "\n",
              "       number_of_open_accounts  number_of_credit_problems  \\\n",
              "0                            6                          1   \n",
              "1                           35                          0   \n",
              "2                           18                          1   \n",
              "3                            9                          0   \n",
              "4                           15                          0   \n",
              "...                        ...                        ...   \n",
              "99990                        9                          0   \n",
              "99996                       22                          0   \n",
              "99997                       12                          1   \n",
              "99998                        8                          0   \n",
              "99999                        4                          1   \n",
              "\n",
              "       current_credit_balance  maximum_open_credit  \n",
              "0                      228190             416746.0  \n",
              "1                      229976             850784.0  \n",
              "2                      297996             750090.0  \n",
              "3                      256329             386958.0  \n",
              "4                      253460             427174.0  \n",
              "...                       ...                  ...  \n",
              "99990                   37392             134442.0  \n",
              "99996                  153045             509234.0  \n",
              "99997                  109554             537548.0  \n",
              "99998                  404225             738254.0  \n",
              "99999                   45600              91014.0  \n",
              "\n",
              "[81999 rows x 15 columns]"
            ]
          },
          "execution_count": 71,
          "metadata": {},
          "output_type": "execute_result"
        }
      ],
      "source": [
        "data = data.drop(['bankruptcies', 'tax_liens'], axis=1)\n",
        "test = test.drop(['bankruptcies', 'tax_liens'], axis=1)\n",
        "data"
      ]
    },
    {
      "cell_type": "markdown",
      "metadata": {
        "id": "DIkYgS-DOHHH"
      },
      "source": [
        "# Разбиение"
      ]
    },
    {
      "cell_type": "code",
      "execution_count": 72,
      "metadata": {
        "id": "glNaDnD-BGHu"
      },
      "outputs": [],
      "source": [
        "# Разбиение\n",
        "from sklearn.model_selection import train_test_split\n",
        "X, y = data.iloc[:, 1:].values, data.iloc[:, 0].values\n",
        "X_train, X_test, y_train, y_test = train_test_split(X, y, test_size=0.3, random_state=0, stratify=y)"
      ]
    },
    {
      "cell_type": "code",
      "execution_count": 73,
      "metadata": {
        "colab": {
          "base_uri": "https://localhost:8080/"
        },
        "id": "sy39S-0WBGHv",
        "outputId": "8a2d72af-aeed-4e83-8958-01b7d8723b2e"
      },
      "outputs": [
        {
          "data": {
            "text/plain": [
              "(57399, 14)"
            ]
          },
          "execution_count": 73,
          "metadata": {},
          "output_type": "execute_result"
        }
      ],
      "source": [
        "X_train.shape"
      ]
    },
    {
      "cell_type": "markdown",
      "metadata": {
        "id": "OA_b4BRDOKSP"
      },
      "source": [
        "# Масштабирование"
      ]
    },
    {
      "cell_type": "code",
      "execution_count": 76,
      "metadata": {
        "id": "po6MkqYv0cDT"
      },
      "outputs": [],
      "source": [
        "# Нормализация MinMax\n",
        "#from sklearn.preprocessing import MinMaxScaler\n",
        "# mms = MinMaxScaler()\n",
        "#X_train_norm = mms.fit_transform(X_train)\n",
        "#X_test_norm = mms.fit_transform(X_test)"
      ]
    },
    {
      "cell_type": "code",
      "execution_count": 77,
      "metadata": {
        "id": "NaLFmadXR5uR"
      },
      "outputs": [],
      "source": [
        "# Стандартизация\n",
        "from sklearn.preprocessing import StandardScaler\n",
        "stdsc = StandardScaler()\n",
        "X_train_std = stdsc.fit_transform(X_train)\n",
        "X_test_std = stdsc.fit_transform(X_test)\n",
        "\n",
        "# Посмотреть RobustScaler"
      ]
    },
    {
      "cell_type": "code",
      "execution_count": 78,
      "metadata": {
        "id": "v-XtlqH1GsaK"
      },
      "outputs": [],
      "source": [
        "X_test = stdsc.fit_transform(test[:])"
      ]
    },
    {
      "cell_type": "code",
      "execution_count": 79,
      "metadata": {
        "colab": {
          "base_uri": "https://localhost:8080/",
          "height": 226
        },
        "id": "XXhC5n9IGjIv",
        "outputId": "879077a5-dedb-4bab-e1f0-c83b2d2d9df5"
      },
      "outputs": [
        {
          "data": {
            "text/html": [
              "<div>\n",
              "<style scoped>\n",
              "    .dataframe tbody tr th:only-of-type {\n",
              "        vertical-align: middle;\n",
              "    }\n",
              "\n",
              "    .dataframe tbody tr th {\n",
              "        vertical-align: top;\n",
              "    }\n",
              "\n",
              "    .dataframe thead th {\n",
              "        text-align: right;\n",
              "    }\n",
              "</style>\n",
              "<table border=\"1\" class=\"dataframe\">\n",
              "  <thead>\n",
              "    <tr style=\"text-align: right;\">\n",
              "      <th></th>\n",
              "      <th>loan_status</th>\n",
              "      <th>current_loan_amount</th>\n",
              "      <th>term</th>\n",
              "      <th>credit_score</th>\n",
              "      <th>annual_income</th>\n",
              "      <th>years_in_current_job</th>\n",
              "      <th>home_ownership</th>\n",
              "      <th>purpose</th>\n",
              "      <th>monthly_debt</th>\n",
              "      <th>years_of_credit_history</th>\n",
              "      <th>months_since_last_delinquent</th>\n",
              "      <th>number_of_open_accounts</th>\n",
              "      <th>number_of_credit_problems</th>\n",
              "      <th>current_credit_balance</th>\n",
              "      <th>maximum_open_credit</th>\n",
              "    </tr>\n",
              "  </thead>\n",
              "  <tbody>\n",
              "    <tr>\n",
              "      <th>0</th>\n",
              "      <td>1</td>\n",
              "      <td>445412</td>\n",
              "      <td>1</td>\n",
              "      <td>709.0</td>\n",
              "      <td>1.167493e+06</td>\n",
              "      <td>8</td>\n",
              "      <td>1</td>\n",
              "      <td>5</td>\n",
              "      <td>5214.74</td>\n",
              "      <td>17.2</td>\n",
              "      <td>35.064236</td>\n",
              "      <td>6</td>\n",
              "      <td>1</td>\n",
              "      <td>228190</td>\n",
              "      <td>416746.0</td>\n",
              "    </tr>\n",
              "    <tr>\n",
              "      <th>1</th>\n",
              "      <td>1</td>\n",
              "      <td>262328</td>\n",
              "      <td>1</td>\n",
              "      <td>731.0</td>\n",
              "      <td>1.376776e+06</td>\n",
              "      <td>1</td>\n",
              "      <td>1</td>\n",
              "      <td>3</td>\n",
              "      <td>33295.98</td>\n",
              "      <td>21.1</td>\n",
              "      <td>8.000000</td>\n",
              "      <td>35</td>\n",
              "      <td>0</td>\n",
              "      <td>229976</td>\n",
              "      <td>850784.0</td>\n",
              "    </tr>\n",
              "    <tr>\n",
              "      <th>2</th>\n",
              "      <td>1</td>\n",
              "      <td>99999999</td>\n",
              "      <td>1</td>\n",
              "      <td>741.0</td>\n",
              "      <td>2.231892e+06</td>\n",
              "      <td>8</td>\n",
              "      <td>2</td>\n",
              "      <td>3</td>\n",
              "      <td>29200.53</td>\n",
              "      <td>14.9</td>\n",
              "      <td>29.000000</td>\n",
              "      <td>18</td>\n",
              "      <td>1</td>\n",
              "      <td>297996</td>\n",
              "      <td>750090.0</td>\n",
              "    </tr>\n",
              "    <tr>\n",
              "      <th>3</th>\n",
              "      <td>1</td>\n",
              "      <td>347666</td>\n",
              "      <td>0</td>\n",
              "      <td>721.0</td>\n",
              "      <td>8.069490e+05</td>\n",
              "      <td>3</td>\n",
              "      <td>2</td>\n",
              "      <td>3</td>\n",
              "      <td>8741.90</td>\n",
              "      <td>12.0</td>\n",
              "      <td>35.064236</td>\n",
              "      <td>9</td>\n",
              "      <td>0</td>\n",
              "      <td>256329</td>\n",
              "      <td>386958.0</td>\n",
              "    </tr>\n",
              "    <tr>\n",
              "      <th>4</th>\n",
              "      <td>1</td>\n",
              "      <td>176220</td>\n",
              "      <td>1</td>\n",
              "      <td>731.0</td>\n",
              "      <td>1.376776e+06</td>\n",
              "      <td>5</td>\n",
              "      <td>3</td>\n",
              "      <td>3</td>\n",
              "      <td>20639.70</td>\n",
              "      <td>6.1</td>\n",
              "      <td>35.064236</td>\n",
              "      <td>15</td>\n",
              "      <td>0</td>\n",
              "      <td>253460</td>\n",
              "      <td>427174.0</td>\n",
              "    </tr>\n",
              "  </tbody>\n",
              "</table>\n",
              "</div>"
            ],
            "text/plain": [
              "   loan_status  current_loan_amount  term  credit_score  annual_income  \\\n",
              "0            1               445412     1         709.0   1.167493e+06   \n",
              "1            1               262328     1         731.0   1.376776e+06   \n",
              "2            1             99999999     1         741.0   2.231892e+06   \n",
              "3            1               347666     0         721.0   8.069490e+05   \n",
              "4            1               176220     1         731.0   1.376776e+06   \n",
              "\n",
              "   years_in_current_job  home_ownership  purpose  monthly_debt  \\\n",
              "0                     8               1        5       5214.74   \n",
              "1                     1               1        3      33295.98   \n",
              "2                     8               2        3      29200.53   \n",
              "3                     3               2        3       8741.90   \n",
              "4                     5               3        3      20639.70   \n",
              "\n",
              "   years_of_credit_history  months_since_last_delinquent  \\\n",
              "0                     17.2                     35.064236   \n",
              "1                     21.1                      8.000000   \n",
              "2                     14.9                     29.000000   \n",
              "3                     12.0                     35.064236   \n",
              "4                      6.1                     35.064236   \n",
              "\n",
              "   number_of_open_accounts  number_of_credit_problems  current_credit_balance  \\\n",
              "0                        6                          1                  228190   \n",
              "1                       35                          0                  229976   \n",
              "2                       18                          1                  297996   \n",
              "3                        9                          0                  256329   \n",
              "4                       15                          0                  253460   \n",
              "\n",
              "   maximum_open_credit  \n",
              "0             416746.0  \n",
              "1             850784.0  \n",
              "2             750090.0  \n",
              "3             386958.0  \n",
              "4             427174.0  "
            ]
          },
          "execution_count": 79,
          "metadata": {},
          "output_type": "execute_result"
        }
      ],
      "source": [
        "data.head()"
      ]
    },
    {
      "cell_type": "code",
      "execution_count": 80,
      "metadata": {
        "colab": {
          "base_uri": "https://localhost:8080/"
        },
        "id": "h8e-A3AgFTHT",
        "outputId": "016cc983-522a-4556-955f-4cc73fc4d7d7"
      },
      "outputs": [
        {
          "data": {
            "text/plain": [
              "array([[-0.34787984,  0.60893507, -0.19622476,  0.90628448, -0.88980805,\n",
              "        -0.97609905, -0.34326004,  1.90100163,  0.50784661,  0.        ,\n",
              "        -0.41490073, -0.33039938,  0.85322313,  0.19977379],\n",
              "       [-0.35878707,  0.60893507, -0.20599602,  0.70712839, -0.88980805,\n",
              "        -0.97609905, -0.34326004,  1.46739535,  0.16586908,  0.        ,\n",
              "        -0.01674255, -0.33039938,  1.00178711,  0.1167523 ],\n",
              "       [-0.3623685 ,  0.60893507, -0.22478689, -0.64016723, -0.59712729,\n",
              "         1.12213622, -0.34326004, -0.80955477, -0.81731633, -1.68397976,\n",
              "        -0.21582164, -0.33039938, -0.64974504, -0.16069122],\n",
              "       [-0.36164859,  0.60893507, -0.21125746, -0.75718425, -0.88980805,\n",
              "         1.12213622, -0.34326004, -0.13370084, -0.24735378, -0.53725139,\n",
              "         0.9786529 ,  1.66597152, -0.34468715, -0.0837096 ],\n",
              "       [-0.35703603,  0.60893507, -0.19847967,  0.5039667 , -0.88980805,\n",
              "        -0.97609905, -0.34326004,  1.69759881,  1.1063073 ,  0.60947697,\n",
              "         0.58049472, -0.33039938,  0.17785667, -0.1176912 ]])"
            ]
          },
          "execution_count": 80,
          "metadata": {},
          "output_type": "execute_result"
        }
      ],
      "source": [
        "X_test[:5]"
      ]
    },
    {
      "cell_type": "markdown",
      "metadata": {
        "id": "Yf_J5nopVgzx"
      },
      "source": [
        "# Обучение модели"
      ]
    },
    {
      "cell_type": "code",
      "execution_count": 81,
      "metadata": {
        "id": "TfSmVORFUKsw"
      },
      "outputs": [],
      "source": [
        "from sklearn.linear_model import LogisticRegression\n",
        "clf = LogisticRegression(random_state=0, max_iter=1000).fit(X_train_std, y_train)"
      ]
    },
    {
      "cell_type": "markdown",
      "metadata": {
        "id": "ScsCdLcLCHLj"
      },
      "source": [
        "# Оценка"
      ]
    },
    {
      "cell_type": "code",
      "execution_count": 82,
      "metadata": {
        "colab": {
          "base_uri": "https://localhost:8080/"
        },
        "id": "rQhP6G5GV0fV",
        "outputId": "9780d241-d723-4816-bba5-dc6bbffbd8ad"
      },
      "outputs": [
        {
          "data": {
            "text/plain": [
              "0.7811382113821138"
            ]
          },
          "execution_count": 82,
          "metadata": {},
          "output_type": "execute_result"
        }
      ],
      "source": [
        "predictions = clf.predict(X_test_std)\n",
        "from sklearn.metrics import accuracy_score\n",
        "accuracy_score(y_test, predictions)"
      ]
    },
    {
      "cell_type": "code",
      "execution_count": 83,
      "metadata": {
        "colab": {
          "base_uri": "https://localhost:8080/"
        },
        "id": "LqqaXO3vCroR",
        "outputId": "e0105d28-b9a1-487c-dc3f-3565df10fb74"
      },
      "outputs": [
        {
          "data": {
            "text/plain": [
              "array(['Fully Paid', 'Fully Paid', 'Fully Paid', ..., 'Fully Paid',\n",
              "       'Fully Paid', 'Fully Paid'], dtype='<U11')"
            ]
          },
          "execution_count": 83,
          "metadata": {},
          "output_type": "execute_result"
        }
      ],
      "source": [
        "submission_preds = clf.predict(X_test)\n",
        "submission_preds\n",
        "str_res = np.array(['Charged Off', 'Fully Paid'])\n",
        "res_arr = str_res[submission_preds]\n",
        "res_arr"
      ]
    },
    {
      "cell_type": "code",
      "execution_count": 84,
      "metadata": {
        "colab": {
          "base_uri": "https://localhost:8080/",
          "height": 424
        },
        "id": "OChItEUGIYsa",
        "outputId": "8a79aa36-2ddb-41a6-c9f3-78c6a1e99519"
      },
      "outputs": [
        {
          "data": {
            "text/html": [
              "<div>\n",
              "<style scoped>\n",
              "    .dataframe tbody tr th:only-of-type {\n",
              "        vertical-align: middle;\n",
              "    }\n",
              "\n",
              "    .dataframe tbody tr th {\n",
              "        vertical-align: top;\n",
              "    }\n",
              "\n",
              "    .dataframe thead th {\n",
              "        text-align: right;\n",
              "    }\n",
              "</style>\n",
              "<table border=\"1\" class=\"dataframe\">\n",
              "  <thead>\n",
              "    <tr style=\"text-align: right;\">\n",
              "      <th></th>\n",
              "      <th>Loan ID</th>\n",
              "      <th>Loan Status</th>\n",
              "    </tr>\n",
              "  </thead>\n",
              "  <tbody>\n",
              "    <tr>\n",
              "      <th>0</th>\n",
              "      <td>f738779f-c726-40dc-92cf-689d73af533d</td>\n",
              "      <td>Fully Paid</td>\n",
              "    </tr>\n",
              "    <tr>\n",
              "      <th>1</th>\n",
              "      <td>6dcc0947-164d-476c-a1de-3ae7283dde0a</td>\n",
              "      <td>Fully Paid</td>\n",
              "    </tr>\n",
              "    <tr>\n",
              "      <th>2</th>\n",
              "      <td>f7744d01-894b-49c3-8777-fc6431a2cff1</td>\n",
              "      <td>Fully Paid</td>\n",
              "    </tr>\n",
              "    <tr>\n",
              "      <th>3</th>\n",
              "      <td>83721ffb-b99a-4a0f-aea5-ef472a138b41</td>\n",
              "      <td>Fully Paid</td>\n",
              "    </tr>\n",
              "    <tr>\n",
              "      <th>4</th>\n",
              "      <td>08f3789f-5714-4b10-929d-e1527ab5e5a3</td>\n",
              "      <td>Fully Paid</td>\n",
              "    </tr>\n",
              "    <tr>\n",
              "      <th>...</th>\n",
              "      <td>...</td>\n",
              "      <td>...</td>\n",
              "    </tr>\n",
              "    <tr>\n",
              "      <th>9995</th>\n",
              "      <td>c4ab66f9-833c-43b8-879c-4f8bcb64dd14</td>\n",
              "      <td>Fully Paid</td>\n",
              "    </tr>\n",
              "    <tr>\n",
              "      <th>9996</th>\n",
              "      <td>bbd3a392-01b4-4e0e-9c28-b2a4a39beac7</td>\n",
              "      <td>Fully Paid</td>\n",
              "    </tr>\n",
              "    <tr>\n",
              "      <th>9997</th>\n",
              "      <td>da9870de-4280-46a3-8fc6-91cfe5bfde9d</td>\n",
              "      <td>Fully Paid</td>\n",
              "    </tr>\n",
              "    <tr>\n",
              "      <th>9998</th>\n",
              "      <td>0cc8e0e0-1bc6-49d7-ad0f-0598b647458f</td>\n",
              "      <td>Fully Paid</td>\n",
              "    </tr>\n",
              "    <tr>\n",
              "      <th>9999</th>\n",
              "      <td>14f94b64-26c4-48fd-b916-1388d7adcc1d</td>\n",
              "      <td>Fully Paid</td>\n",
              "    </tr>\n",
              "  </tbody>\n",
              "</table>\n",
              "<p>10000 rows × 2 columns</p>\n",
              "</div>"
            ],
            "text/plain": [
              "                                   Loan ID Loan Status\n",
              "0     f738779f-c726-40dc-92cf-689d73af533d  Fully Paid\n",
              "1     6dcc0947-164d-476c-a1de-3ae7283dde0a  Fully Paid\n",
              "2     f7744d01-894b-49c3-8777-fc6431a2cff1  Fully Paid\n",
              "3     83721ffb-b99a-4a0f-aea5-ef472a138b41  Fully Paid\n",
              "4     08f3789f-5714-4b10-929d-e1527ab5e5a3  Fully Paid\n",
              "...                                    ...         ...\n",
              "9995  c4ab66f9-833c-43b8-879c-4f8bcb64dd14  Fully Paid\n",
              "9996  bbd3a392-01b4-4e0e-9c28-b2a4a39beac7  Fully Paid\n",
              "9997  da9870de-4280-46a3-8fc6-91cfe5bfde9d  Fully Paid\n",
              "9998  0cc8e0e0-1bc6-49d7-ad0f-0598b647458f  Fully Paid\n",
              "9999  14f94b64-26c4-48fd-b916-1388d7adcc1d  Fully Paid\n",
              "\n",
              "[10000 rows x 2 columns]"
            ]
          },
          "execution_count": 84,
          "metadata": {},
          "output_type": "execute_result"
        }
      ],
      "source": [
        "res = pd.DataFrame({\"Loan ID\": test_id.values,\n",
        "                   \"Loan Status\": res_arr,\n",
        "                  })\n",
        "res"
      ]
    }
  ],
  "metadata": {
    "colab": {
      "provenance": []
    },
    "kernelspec": {
      "display_name": "Python 3",
      "name": "python3"
    },
    "language_info": {
      "codemirror_mode": {
        "name": "ipython",
        "version": 3
      },
      "file_extension": ".py",
      "mimetype": "text/x-python",
      "name": "python",
      "nbconvert_exporter": "python",
      "pygments_lexer": "ipython3",
      "version": "3.11.3"
    }
  },
  "nbformat": 4,
  "nbformat_minor": 0
}
